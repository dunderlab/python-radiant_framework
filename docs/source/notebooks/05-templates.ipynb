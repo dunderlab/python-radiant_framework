{
 "cells": [
  {
   "cell_type": "markdown",
   "id": "a030210e-2fcc-4c0d-87b0-7253411e8b74",
   "metadata": {},
   "source": [
    "# Templates "
   ]
  },
  {
   "cell_type": "markdown",
   "id": "a37f4314-35d7-4804-8ac6-7868c18d63f8",
   "metadata": {},
   "source": [
    "This feature in the Radian framework enables the use of [Brython Templates](https://brython.info/static_doc/3.12/en/browser.template.html) functionalities through HTML files."
   ]
  },
  {
   "cell_type": "markdown",
   "id": "056ff9c3-8755-4a46-a314-fe2711d897aa",
   "metadata": {},
   "source": [
    "For instance, the following is an example of the `main.html` code:"
   ]
  },
  {
   "cell_type": "markdown",
   "id": "ace8ba95-913f-4d6f-9ec4-48fde84dbd1f",
   "metadata": {},
   "source": [
    "```html\n",
    "<div class=\"\">\n",
    "    <h1>Brython Templates</h1>\n",
    "    <h2>{title}</h2>\n",
    "</div>\n",
    "\n",
    "<div class=\"\">\n",
    "    <h1>Brython Templates b-code</h1>\n",
    "    <h2 b-code=\"for item in items:\">{item}</h2>\n",
    "</div>\n",
    "```"
   ]
  },
  {
   "cell_type": "markdown",
   "id": "e78f593f-a0eb-4a73-a8a2-85751475a7e0",
   "metadata": {},
   "source": [
    "The usage is as follows:"
   ]
  },
  {
   "cell_type": "code",
   "execution_count": null,
   "id": "57bf374a-aff4-4a3f-bc19-df727c4b9415",
   "metadata": {},
   "outputs": [],
   "source": [
    "from radiant.framework.server import RadiantAPI, RadiantServer, render\n",
    "from radiant.framework import html\n",
    "\n",
    "\n",
    "class StaticApp(RadiantAPI):\n",
    "\n",
    "    def __init__(self, *args, **kwargs):\n",
    "        \"\"\"\"\"\"\n",
    "        super().__init__(*args, **kwargs)\n",
    "        self.body <= html.H1('Radiant-Framework')\n",
    "        self.body <= self.main()\n",
    "\n",
    "    \n",
    "    def main(self):\n",
    "        \"\"\"\"\"\"\n",
    "        context = {\n",
    "            'title': 'Title',\n",
    "            'items': [f'item-{i}' for i in range(10)],\n",
    "        }\n",
    "        return render('main.html', context)\n",
    "\n",
    "\n",
    "if __name__ == '__main__':\n",
    "    StaticApp()\n"
   ]
  },
  {
   "cell_type": "markdown",
   "id": "920d6c59-b364-4cb0-9298-4ee134d3b021",
   "metadata": {},
   "source": [
    "This code demonstrates the use of the `render` function within the Radiant framework. It outlines the creation of a `StaticApp` class, which inherits from `RadiantAPI`. The class defines a constructor and a main method. The main method constructs a context containing a title and a list of items, and then it returns the output of the `render` function. This function is used to integrate dynamic data from the context with an HTML template (`main.html`), a common technique in web applications for generating dynamic web pages."
   ]
  }
 ],
 "metadata": {
  "kernelspec": {
   "display_name": "Python 3 (ipykernel)",
   "language": "python",
   "name": "python3"
  },
  "language_info": {
   "codemirror_mode": {
    "name": "ipython",
    "version": 3
   },
   "file_extension": ".py",
   "mimetype": "text/x-python",
   "name": "python",
   "nbconvert_exporter": "python",
   "pygments_lexer": "ipython3",
   "version": "3.13.1"
  }
 },
 "nbformat": 4,
 "nbformat_minor": 5
}
