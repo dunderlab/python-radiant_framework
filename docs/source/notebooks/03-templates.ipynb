{
 "cells": [
  {
   "metadata": {},
   "cell_type": "markdown",
   "source": "# Custom Templates in Radiant Framework",
   "id": "a3ad6204e386772a"
  },
  {
   "metadata": {},
   "cell_type": "markdown",
   "source": [
    "## Overview\n",
    "Radiant Framework allows you to customize your application's appearance using HTML templates and CSS styles. This feature enables you to:\n",
    "- Create custom layouts\n",
    "- Apply custom styles\n",
    "- Extend base templates\n",
    "- Maintain consistent design"
   ],
   "id": "cc1f31c68aca16e3"
  },
  {
   "metadata": {},
   "cell_type": "markdown",
   "source": [
    "## Template Structure\n",
    "### HTML Template\n",
    "The custom template extends the base template and allows you to define specific blocks for customization:"
   ],
   "id": "cf9e2a278984be7"
  },
  {
   "metadata": {},
   "cell_type": "code",
   "outputs": [],
   "execution_count": null,
   "source": [
    "# custom_template.html\n",
    "{# Inherit base structure from the main index.html template #}\n",
    "{% extends \"templates/index.html\" %}\n",
    "\n",
    "{% block html_head %}\n",
    "{# Add extra CSS or metadata here if needed #}\n",
    "{% end %}\n",
    "\n",
    "{% block html_body %}\n",
    "{# Insert custom HTML content here. This will replace the body block in the base template. #}\n",
    "<main>\n",
    "  <h1>Radiant Interface</h1>\n",
    "  <p>Welcome to your custom Radiant application.</p>\n",
    "</main>\n",
    "{% end %}"
   ],
   "id": "2a6865fbc54d437f"
  },
  {
   "metadata": {},
   "cell_type": "markdown",
   "source": [
    "## Custom Styles\n",
    "### CSS Implementation\n",
    "You can define custom styles in a separate CSS file:"
   ],
   "id": "831d9caff9d8c19e"
  },
  {
   "metadata": {},
   "cell_type": "code",
   "outputs": [],
   "execution_count": null,
   "source": [
    "# custom_styles.css\n",
    "body {\n",
    "    background-color: #e6e6e6;\n",
    "}"
   ],
   "id": "563eabbfa3827adf"
  },
  {
   "metadata": {},
   "cell_type": "markdown",
   "source": [
    "## Implementation\n",
    "### Python Application\n",
    "Here's how to implement a Radiant application using custom templates and styles:"
   ],
   "id": "6c4ffe68168afbc8"
  },
  {
   "metadata": {},
   "cell_type": "code",
   "outputs": [],
   "execution_count": null,
   "source": [
    "from radiant.framework.server import RadiantInterfaceApp\n",
    "from browser import document, html\n",
    "\n",
    "class MinimalApp(RadiantInterfaceApp):\n",
    "    \"\"\"\n",
    "    Called when the application is mounted. It injects HTML content\n",
    "    and attaches a custom CSS file.\n",
    "    \"\"\"\n",
    "\n",
    "    def on_mount(self):\n",
    "        document <= html.H1(\"Radiant Demo\")\n",
    "        document <= html.P(\n",
    "            \"This page is rendered using a custom HTML template and styled with CSS.\"\n",
    "        )\n",
    "        self.add_css_file(\"custom_styles.css\")\n",
    "\n",
    "# Launch the app with default settings\n",
    "if __name__ == \"__main__\":\n",
    "    # Start the application using the specified HTML template\n",
    "    MinimalApp(\n",
    "        template=\"custom_template.html\",\n",
    "    ).serve()"
   ],
   "id": "f7009178fd4e9ce4"
  }
 ],
 "metadata": {
  "kernelspec": {
   "display_name": "Python 3",
   "language": "python",
   "name": "python3"
  },
  "language_info": {
   "codemirror_mode": {
    "name": "ipython",
    "version": 2
   },
   "file_extension": ".py",
   "mimetype": "text/x-python",
   "name": "python",
   "nbconvert_exporter": "python",
   "pygments_lexer": "ipython2",
   "version": "2.7.6"
  }
 },
 "nbformat": 4,
 "nbformat_minor": 5
}
