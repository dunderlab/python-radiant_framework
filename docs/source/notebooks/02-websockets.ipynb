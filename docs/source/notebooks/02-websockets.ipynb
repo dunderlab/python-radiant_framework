{
 "cells": [
  {
   "cell_type": "markdown",
   "id": "774e79f7-72b4-42d4-92b2-ff76228b903c",
   "metadata": {},
   "source": [
    "# WebSockets "
   ]
  },
  {
   "cell_type": "markdown",
   "id": "2cdce03f-37f3-47eb-9046-1bfc66f1a29d",
   "metadata": {},
   "source": [
    "## Server\n",
    "\n",
    "This section covers how to use WebSockets with Radiant and Tornado. It's important to note that the WebSockets are implemented in the Tornado side, **not** in Radiant (Brython). To use WebSockets in your Radiant application, you'll need to create a `WebSocketHandler` object in Tornado.\n",
    "\n",
    "For more information about the `WebSocketHandler` class and how to use it, please see the [Tornado documentation](https://www.tornadoweb.org/en/stable/websocket.html)."
   ]
  },
  {
   "cell_type": "code",
   "execution_count": null,
   "id": "2e8ea107-b9f7-46ed-8629-2d82fa26980a",
   "metadata": {},
   "outputs": [],
   "source": [
    "#ws_handler.py\n",
    "\n",
    "from tornado.websocket import WebSocketHandler\n",
    "\n",
    "class WSHandler(WebSocketHandler):\n",
    "\n",
    "    def open(self):\n",
    "        ...\n",
    "        \n",
    "    def on_close(self):\n",
    "        ...\n",
    "\n",
    "    def on_message(self, message):\n",
    "        ..."
   ]
  },
  {
   "cell_type": "markdown",
   "id": "19fb9d4a-6278-40a5-826f-33efd051c7c6",
   "metadata": {},
   "source": [
    "To include a WebSocketHandler in your RadiantServer, you can pass it as an argument to the `websockethandler` parameter when you create the server:"
   ]
  },
  {
   "cell_type": "code",
   "execution_count": null,
   "id": "dbfbdb45-7731-4799-afe6-c4fe032b32f7",
   "metadata": {},
   "outputs": [],
   "source": [
    "RadiantServer('MainApp', websockethandler=('ws_handler.py', 'WSHandler'))"
   ]
  },
  {
   "cell_type": "markdown",
   "id": "0f9f9a9d-014e-4ddd-bdc8-15a5e5425e77",
   "metadata": {},
   "source": [
    "This will create a WebSocket server that listens on the `/ws` URL. You can specify the WebSocketHandler class by passing a tuple with the path to the module and the name of the class. In this example, the module is `ws_handler.py` and the class is `WSHandler`."
   ]
  },
  {
   "cell_type": "markdown",
   "id": "250994cc-bb0a-4922-a5ae-4dc2a6046ff3",
   "metadata": {},
   "source": [
    "## Client\n",
    "\n",
    "To create a WebSocket client using Brython, you can use the `browser.websocket` module. Here is an example code snippet that demonstrates how to create a WebSocket client using Brython:"
   ]
  },
  {
   "cell_type": "code",
   "execution_count": null,
   "id": "c8442da0-9311-4742-85ee-dceb6b97a861",
   "metadata": {},
   "outputs": [],
   "source": [
    "from browser import websocket\n",
    "\n",
    "def on_open(evt):\n",
    "    print('Connection opened.')\n",
    "\n",
    "def on_message(evt):\n",
    "    print('Message received:', evt.data)\n",
    "\n",
    "def on_close(evt):\n",
    "    print('Connection closed.')\n",
    "\n",
    "ws = websocket.WebSocket('ws://localhost:8888/ws')\n",
    "ws.bind('open', on_open)\n",
    "ws.bind('message', on_message)\n",
    "ws.bind('close', on_close)"
   ]
  },
  {
   "cell_type": "markdown",
   "id": "6070ea58-9b76-48fd-a335-6b06b324305b",
   "metadata": {},
   "source": [
    "In the example above, we create a new WebSocket object and connect to the server using `ws://localhost:8888/ws` as the URL. We then bind event handlers for the `open`, `message`, and `close` events. When the connection is opened, the `on_open` function will be called, and the same for the other events.\n",
    "\n",
    "You can replace the URL in the `WebSocket` constructor with the appropriate URL for your server. You can also modify the event handlers to handle the data that is received from the server. "
   ]
  }
 ],
 "metadata": {
  "kernelspec": {
   "display_name": "Python 3 (ipykernel)",
   "language": "python",
   "name": "python3"
  },
  "language_info": {
   "codemirror_mode": {
    "name": "ipython",
    "version": 3
   },
   "file_extension": ".py",
   "mimetype": "text/x-python",
   "name": "python",
   "nbconvert_exporter": "python",
   "pygments_lexer": "ipython3",
   "version": "3.10.9"
  }
 },
 "nbformat": 4,
 "nbformat_minor": 5
}
