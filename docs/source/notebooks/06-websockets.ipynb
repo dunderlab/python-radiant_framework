{
 "cells": [
  {
   "cell_type": "markdown",
   "id": "774e79f7-72b4-42d4-92b2-ff76228b903c",
   "metadata": {},
   "source": [
    "# WebSockets "
   ]
  },
  {
   "cell_type": "markdown",
   "id": "2cdce03f-37f3-47eb-9046-1bfc66f1a29d",
   "metadata": {},
   "source": [
    "## Server\n",
    "\n",
    "This section delves into the intricacies of utilizing WebSockets within the Radiant and Tornado ecosystem. It's crucial to understand that WebSockets functionality is integrated within Tornado, and not directly within Radiant (Brython). To effectively incorporate WebSockets in a Radiant-based application, one must establish a `WebSocketHandler` within the Tornado framework. For a comprehensive understanding of the `WebSocketHandler` class and its implementation, refer to the [Tornado documentation](https://www.tornadoweb.org/en/stable/websocket.html)."
   ]
  },
  {
   "cell_type": "code",
   "execution_count": null,
   "id": "2e8ea107-b9f7-46ed-8629-2d82fa26980a",
   "metadata": {},
   "outputs": [],
   "source": [
    "#ws_handler.py\n",
    "\n",
    "from tornado.websocket import WebSocketHandler\n",
    "\n",
    "class WSHandler(WebSocketHandler):\n",
    "\n",
    "    def open(self):\n",
    "        ...\n",
    "        \n",
    "    def on_close(self):\n",
    "        ...\n",
    "\n",
    "    def on_message(self, message):\n",
    "        ..."
   ]
  },
  {
   "cell_type": "markdown",
   "id": "19fb9d4a-6278-40a5-826f-33efd051c7c6",
   "metadata": {},
   "source": [
    "To integrate a `WebSocketHandler` in your RadiantServer, it can be passed as a parameter to the `websockethandler` during server creation. This process effectively bridges Radiant and Tornado, allowing for WebSocket functionalities within your Radiant application."
   ]
  },
  {
   "cell_type": "code",
   "execution_count": null,
   "id": "dbfbdb45-7731-4799-afe6-c4fe032b32f7",
   "metadata": {},
   "outputs": [],
   "source": [
    "RadiantServer('MainApp', websockethandler=('ws_handler.py', 'WSHandler'))"
   ]
  },
  {
   "cell_type": "markdown",
   "id": "0f9f9a9d-014e-4ddd-bdc8-15a5e5425e77",
   "metadata": {},
   "source": [
    "Creating a WebSocket server in this context involves setting up a listener on a specified URL, such as `/ws`. To define the WebSocketHandler class, pass a tuple that includes the path to the module and the class name. For example, if your module is `ws_handler.py` and the class is `WSHandler`, this information should be specified accordingly."
   ]
  },
  {
   "cell_type": "markdown",
   "id": "250994cc-bb0a-4922-a5ae-4dc2a6046ff3",
   "metadata": {},
   "source": [
    "## Client\n",
    "\n",
    "For constructing a WebSocket client in a Brython environment, the `browser.websocket` module is utilized. The following example demonstrates the procedure to create a WebSocket client, leveraging Brython's capabilities."
   ]
  },
  {
   "cell_type": "code",
   "execution_count": null,
   "id": "c8442da0-9311-4742-85ee-dceb6b97a861",
   "metadata": {},
   "outputs": [],
   "source": [
    "from browser import websocket\n",
    "\n",
    "def on_open(evt):\n",
    "    print('Connection opened.')\n",
    "\n",
    "def on_message(evt):\n",
    "    print('Message received:', evt.data)\n",
    "\n",
    "def on_close(evt):\n",
    "    print('Connection closed.')\n",
    "\n",
    "ws = websocket.WebSocket('ws://localhost:8888/ws')\n",
    "ws.bind('open', on_open)\n",
    "ws.bind('message', on_message)\n",
    "ws.bind('close', on_close)"
   ]
  },
  {
   "cell_type": "markdown",
   "id": "6070ea58-9b76-48fd-a335-6b06b324305b",
   "metadata": {},
   "source": [
    "In the demonstrated example, a new WebSocket object is instantiated and connected to the server using `ws://localhost:8888/ws` as the URL. Event handlers for `open`, `message`, and `close` events are then bound to this WebSocket. Upon opening the connection, the `on_open` function is triggered, and similarly for other events. The URL in the `WebSocket` constructor can be modified to align with your server's specifics, and the event handlers can be tailored to manage the data received from the server."
   ]
  }
 ],
 "metadata": {
  "kernelspec": {
   "display_name": "Python 3 (ipykernel)",
   "language": "python",
   "name": "python3"
  },
  "language_info": {
   "codemirror_mode": {
    "name": "ipython",
    "version": 3
   },
   "file_extension": ".py",
   "mimetype": "text/x-python",
   "name": "python",
   "nbconvert_exporter": "python",
   "pygments_lexer": "ipython3",
   "version": "3.13.1"
  }
 },
 "nbformat": 4,
 "nbformat_minor": 5
}
