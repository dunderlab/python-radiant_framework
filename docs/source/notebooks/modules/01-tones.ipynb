{
 "cells": [
  {
   "cell_type": "markdown",
   "metadata": {},
   "source": [
    "# Tones\n",
    "\n",
    "The `sound.Tone` module contains an easy to use implementation to play single tones."
   ]
  },
  {
   "cell_type": "markdown",
   "metadata": {},
   "source": [
    ".. brython::\n",
    "    from mdc.MDCButton import MDCButton;\n",
    "    from radiant.sound import Tone;\n",
    "    ;\n",
    "    # Initialize background audio libraries;\n",
    "    tone = Tone();\n",
    "    ;\n",
    "    play_button = MDCButton('F#4', raised=True);\n",
    "    play_button.bind('click', lambda evt: tone(note='F#4', duration=100, gain=0.5));\n",
    "    container <= play_button;"
   ]
  }
 ],
 "metadata": {
  "kernelspec": {
   "display_name": "Python 3",
   "language": "python",
   "name": "python3"
  },
  "language_info": {
   "codemirror_mode": {
    "name": "ipython",
    "version": 3
   },
   "file_extension": ".py",
   "mimetype": "text/x-python",
   "name": "python",
   "nbconvert_exporter": "python",
   "pygments_lexer": "ipython3",
   "version": "3.9.1"
  }
 },
 "nbformat": 4,
 "nbformat_minor": 4
}
