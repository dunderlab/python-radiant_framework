{
 "cells": [
  {
   "cell_type": "markdown",
   "id": "83c48131-7bce-4f65-b416-7e08d03ed758",
   "metadata": {},
   "source": [
    "# Icon"
   ]
  },
  {
   "cell_type": "markdown",
   "id": "81eb0a97-532c-4953-9d8e-b8696c9f027d",
   "metadata": {
    "tags": []
   },
   "source": [
    "\n",
    "<!--*\n",
    "# Document freshness: For more information, see go/fresh-source.\n",
    "freshness: { owner: 'dfreedm' reviewed: '2023-03-08' }\n",
    "*-->\n",
    "\n",
    "<!-- go/md-icon -->\n",
    "\n",
    "<!-- [TOC] -->\n",
    "\n",
    "[Icons](https://m3.material.io/styles/icons/overview)<!-- {.external} --> can be used to\n",
    "represent common actions. Material Symbols are a set of variable icon fonts\n",
    "created at seven weights across three different styles.\n",
    "\n",
    "*   [Design article](https://m3.material.io/styles/icons) <!-- {.external} -->\n",
    "*   API Documentation (*coming soon*)\n",
    "*   [Source code](https://github.com/material-components/material-web/tree/master/icon)\n",
    "    <!-- {.external} -->"
   ]
  },
  {
   "cell_type": "markdown",
   "id": "becd0b64-086f-4331-b76a-0ca8c4bc6dd2",
   "metadata": {},
   "source": [
    "## Usage\n",
    "\n",
    "Icons can be specified by name, unicode code point, or have an `<svg>` child\n",
    "element."
   ]
  },
  {
   "cell_type": "raw",
   "id": "2443eb89-19bc-4fd2-974b-62e1900da84c",
   "metadata": {
    "raw_mimetype": "text/restructuredtext",
    "tags": []
   },
   "source": [
    ".. brython::\n",
    "   import material_3 as md\n",
    "   \n",
    "   container <= md.icon('settings')"
   ]
  },
  {
   "cell_type": "markdown",
   "id": "b66b45c4-444f-46fa-a2da-75101561f3bb",
   "metadata": {},
   "source": [
    "The full range of icons can be found on the\n",
    "[Material Symbols](https://fonts.google.com/icons)<!-- {.external} --> font page.\n",
    "\n",
    "Material Symbols icons are available in three styles: **outlined**, **rounded**,\n",
    "and **sharp**.\n",
    "\n",
    "In addition, Material Symbols have four adjustable stylistic variable font\n",
    "attributes called axes. An axis is a typographic term referring to the attribute\n",
    "of a symbol that can be altered to create visual variations.\n",
    "\n",
    "Each style symbol contains four axes: **weight**, **fill**, **grade**, and\n",
    "**optical size**.\n",
    "\n",
    "The `weight` and `optical size` attributes are handled automatically, but the\n",
    "`fill` and `grade` attributes are custom to the Material Symbols font, and must\n",
    "be set with the\n",
    "[font-variation-settings](https://developer.mozilla.org/en-US/docs/Web/CSS/font-variation-settings)<!-- {.external} -->\n",
    "property."
   ]
  },
  {
   "cell_type": "markdown",
   "id": "5f246b8c-1ab2-4743-b8e6-5f212635e2f5",
   "metadata": {},
   "source": [
    "### Outlined\n",
    "\n",
    "Outlined symbols use stroke and fill attributes for a light, clean style that\n",
    "works well in dense UIs. The stroke weight of outlined icons can be adjusted to\n",
    "complement or contrast the weight of your typography."
   ]
  },
  {
   "cell_type": "raw",
   "id": "566647e1-b7c4-441f-a994-4a1423f5a67b",
   "metadata": {
    "raw_mimetype": "text/restructuredtext",
    "tags": []
   },
   "source": [
    ".. brython::\n",
    "   import material_3 as md\n",
    "\n",
    "   container <= md.icon('settings')\n",
    "   container <= md.icon('check_box')\n",
    "   container <= md.icon('house')"
   ]
  },
  {
   "cell_type": "markdown",
   "id": "f3ca4c0f-8300-461c-9c3e-2055ebc0febc",
   "metadata": {},
   "source": [
    "### Rounded\n",
    "\n",
    "Rounded symbols use a corner radius that pairs well with brands that use heavier\n",
    "typography, curved logos, or circular elements to express their style."
   ]
  },
  {
   "cell_type": "raw",
   "id": "af0ce24f-4100-4a07-8c74-00b86f86ad5a",
   "metadata": {
    "raw_mimetype": "text/restructuredtext",
    "tags": []
   },
   "source": [
    ".. brython::\n",
    "   import material_3 as md\n",
    "\n",
    "   container <= md.icon('settings', rounded=True)\n",
    "   container <= md.icon('check_box', rounded=True)\n",
    "   container <= md.icon('house', rounded=True)"
   ]
  },
  {
   "cell_type": "markdown",
   "id": "b14cd360-d909-4fd4-a84d-b80548093900",
   "metadata": {},
   "source": [
    "### Sharp\n",
    "\n",
    "Sharp symbols display corners with straight edges, for a crisp style that\n",
    "remains legible even at smaller scales. These rectangular shapes can support\n",
    "brand styles that aren’t well-reflected by rounded shapes."
   ]
  },
  {
   "cell_type": "raw",
   "id": "c63a3211-a82a-439d-89b7-fa6ff21741b2",
   "metadata": {
    "raw_mimetype": "text/restructuredtext",
    "tags": []
   },
   "source": [
    ".. brython::\n",
    "   import material_3 as md\n",
    "\n",
    "   container <= md.icon('settings', sharp=True)\n",
    "   container <= md.icon('check_box', sharp=True)\n",
    "   container <= md.icon('house', sharp=True)"
   ]
  },
  {
   "cell_type": "markdown",
   "id": "9a76c6a4-4a85-4fab-be96-c7a2c9b290f6",
   "metadata": {},
   "source": [
    "### Fill"
   ]
  },
  {
   "cell_type": "raw",
   "id": "bad840da-ae59-4c07-8d98-588ea2739f27",
   "metadata": {
    "raw_mimetype": "text/restructuredtext",
    "tags": []
   },
   "source": [
    ".. brython::\n",
    "   import material_3 as md\n",
    "\n",
    "   container <= md.icon('settings', filled=True)\n",
    "   container <= md.icon('check_box', filled=True)\n",
    "   container <= md.icon('house', filled=True)\n",
    "   \n",
    "   container <= md.icon('settings', filled=True, rounded=True)\n",
    "   container <= md.icon('check_box', filled=True, rounded=True)\n",
    "   container <= md.icon('house', filled=True, rounded=True)\n",
    "   \n",
    "   container <= md.icon('settings', filled=True, sharp=True)\n",
    "   container <= md.icon('check_box', filled=True, sharp=True)\n",
    "   container <= md.icon('house', filled=True, sharp=True)"
   ]
  },
  {
   "cell_type": "markdown",
   "id": "d87297eb-552f-4124-b980-365b58ee6247",
   "metadata": {},
   "source": [
    "Filled Icons gives you the ability to transition from a more outlined style to a\n",
    "reversed or more filled style.\n",
    "\n",
    "A fill attribute can be used to convey a state of transition, such as unfilled\n",
    "and filled states. Values range from `0` to `1`, with `1` being completely\n",
    "filled. Along with weight, fill is a primary attribute that impacts the overall\n",
    "look of a symbol.\n",
    "\n",
    "All styles of Material Symbols can be filled by setting\n",
    "`--md-icon-font-variation-settings` to `'FILL' 1`."
   ]
  },
  {
   "cell_type": "markdown",
   "id": "38d2f2dd-0a72-46dd-ba67-88b919fe2f1e",
   "metadata": {},
   "source": [
    "## Accessibility\n",
    "\n",
    "Icons are mostly intended to be used inside of other components that have\n",
    "accessibility settings.\n",
    "\n",
    "If used on their own, Icons should be given an accessible name if they are\n",
    "focusable. If you use icons by name, they will be announced by screen readers\n",
    "without any extra steps.\n",
    "\n",
    "If using codepoints, wrap the codepoint in a `<span>` with an\n",
    "[aria-label](https://developer.mozilla.org/en-US/docs/Web/Accessibility/ARIA/Attributes/aria-label)<!-- {.external} -->\n",
    "attribute."
   ]
  },
  {
   "cell_type": "raw",
   "id": "36b8cb22-62ff-4bb9-8262-37d29d10bd96",
   "metadata": {
    "raw_mimetype": "text/restructuredtext",
    "tags": []
   },
   "source": [
    ".. brython::\n",
    "   import material_3 as md\n",
    "   from browser import html\n",
    "   \n",
    "   icon = md.icon(tabindex=\"-1\")\n",
    "   icon <= html.SPAN('&#xe88a', aria_label=\"home\")\n",
    "   container <= icon"
   ]
  },
  {
   "cell_type": "markdown",
   "id": "d92f8030-85a2-456d-b538-c01d5ca1d42d",
   "metadata": {},
   "source": [
    "If using SVG icons, add an `aria-label` attribute to the SVG element."
   ]
  },
  {
   "cell_type": "code",
   "execution_count": 2,
   "id": "05794703-b0ea-40dd-86ae-609a92b4fa00",
   "metadata": {
    "tags": []
   },
   "outputs": [],
   "source": [
    "# <md-icon tabindex=\"-1\"><svg aria-label=\"paper airplane\" viewBox=\"0 0 48 48\"><path d=\"M6 40V8l38 16Zm3-4.65L36.2 24 9 12.5v8.4L21.1 24 9 27Zm0 0V12.5 27Z\"/></svg></md-icon>"
   ]
  }
 ],
 "metadata": {
  "kernelspec": {
   "display_name": "Python 3 (ipykernel)",
   "language": "python",
   "name": "python3"
  },
  "language_info": {
   "codemirror_mode": {
    "name": "ipython",
    "version": 3
   },
   "file_extension": ".py",
   "mimetype": "text/x-python",
   "name": "python",
   "nbconvert_exporter": "python",
   "pygments_lexer": "ipython3",
   "version": "3.10.9"
  }
 },
 "nbformat": 4,
 "nbformat_minor": 5
}
