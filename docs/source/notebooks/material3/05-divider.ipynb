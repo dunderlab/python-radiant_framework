{
 "cells": [
  {
   "cell_type": "markdown",
   "id": "2f3e97d8-4bc0-4c98-a05f-6bd725f1ae50",
   "metadata": {},
   "source": [
    "# Divider"
   ]
  },
  {
   "cell_type": "markdown",
   "id": "db525ccd-f098-4660-925b-78ffa7fdba3b",
   "metadata": {
    "tags": []
   },
   "source": [
    "<!--*\n",
    "# Document freshness: For more information, see go/fresh-source.\n",
    "freshness: { owner: 'lizmitchell' reviewed: '2023-01-22' }\n",
    "*-->\n",
    "\n",
    "<!-- go/md-divider -->\n",
    "\n",
    "<!-- [TOC] -->\n",
    "\n",
    "A [divider](https://m3.material.io/components/divider)<!-- {.external} --> is a thin line\n",
    "that groups content in lists and containers.\n",
    "\n",
    "Dividers can reinforce tapability, such as when used to separate list items or\n",
    "define tappable regions in an accordion.\n",
    "\n",
    "*   [Design article](https://m3.material.io/components/divider) <!-- {.external} -->\n",
    "*   API Documentation (*coming soon*)\n",
    "*   [Source code](https://github.com/material-components/material-web/tree/master/divider)\n",
    "    <!-- {.external} -->\n"
   ]
  },
  {
   "cell_type": "markdown",
   "id": "315398b5-1cb2-468b-a163-a25c53bab614",
   "metadata": {
    "tags": []
   },
   "source": [
    "## Usage\n",
    "\n",
    "Use full width dividers to separate larger sections of unrelated content.\n"
   ]
  },
  {
   "cell_type": "raw",
   "id": "dfd2613e-3674-4118-a9e8-2bf85dbe5696",
   "metadata": {
    "raw_mimetype": "text/restructuredtext",
    "tags": []
   },
   "source": [
    ".. brython::\n",
    "   import material_3 as md\n",
    "   from browser import html\n",
    "   \n",
    "   section = html.SECTION()\n",
    "   section <= html.P('Lorem ipsum...')\n",
    "   section <= html.BR()\n",
    "   section <= md.divider()\n",
    "   section <= html.BR()\n",
    "   section <= html.P('Lorem ipsum...')\n",
    "   \n",
    "   container <= section"
   ]
  },
  {
   "cell_type": "markdown",
   "id": "d9259cae-052a-4ae1-915e-df95fd488b80",
   "metadata": {},
   "source": [
    "### Inset dividers\n",
    "\n",
    "Use inset dividers to separate related content within a section."
   ]
  },
  {
   "cell_type": "raw",
   "id": "a75cff89-af10-4c96-92e0-bf590c31fb6e",
   "metadata": {
    "raw_mimetype": "text/restructuredtext",
    "tags": []
   },
   "source": [
    ".. brython::\n",
    "   import material_3 as md\n",
    "   from browser import html\n",
    "   \n",
    "   section = html.SECTION()\n",
    "   section <= html.P('Material 2')\n",
    "   section <= md.divider(inset=True)\n",
    "   section <= html.P('Material 3')\n",
    "   \n",
    "   container <= section"
   ]
  },
  {
   "cell_type": "markdown",
   "id": "e0dcdd1e-0e3a-4a19-8c22-bd5e02472681",
   "metadata": {
    "tags": []
   },
   "source": [
    "Inset dividers are equally indented from both sides of the screen by default.\n",
    "Use `inset-start` or `inset-end` to change this."
   ]
  },
  {
   "cell_type": "raw",
   "id": "3bca37d6-91ab-4236-aa69-c7bd4660197b",
   "metadata": {
    "raw_mimetype": "text/restructuredtext",
    "tags": []
   },
   "source": [
    ".. brython::\n",
    "   import material_3 as md\n",
    "   from browser import html\n",
    "   \n",
    "   section = html.SECTION()\n",
    "   section <= html.P('Material 2')\n",
    "   section <= md.divider(inset_start=True)\n",
    "   section <= html.P('Material 3')\n",
    "   \n",
    "   container <= section"
   ]
  },
  {
   "cell_type": "markdown",
   "id": "6612b8b1-5550-48f7-a9d8-9bff43135fc0",
   "metadata": {},
   "source": [
    "## Accessibility\n",
    "\n",
    "Add a\n",
    "[role=\"separator\"](https://developer.mozilla.org/en-US/docs/Web/Accessibility/ARIA/Roles/separator_role)<!-- {.external} -->\n",
    "attribute to non-decorative dividers that separate sections of content or groups\n",
    "of menuitems.\n"
   ]
  },
  {
   "cell_type": "raw",
   "id": "1c404870-1f5a-4cd6-b796-70a03072c976",
   "metadata": {
    "raw_mimetype": "text/restructuredtext",
    "tags": []
   },
   "source": [
    ".. brython::\n",
    "   import material_3 as md\n",
    "   from browser import html\n",
    "   \n",
    "   ul = html.UL()\n",
    "   ul <= html.LI('Item one')\n",
    "   ul <= md.divider(role=\"separator\")\n",
    "   ul <= html.LI('Item two')\n",
    "   \n",
    "   container <= ul"
   ]
  }
 ],
 "metadata": {
  "kernelspec": {
   "display_name": "Python 3 (ipykernel)",
   "language": "python",
   "name": "python3"
  },
  "language_info": {
   "codemirror_mode": {
    "name": "ipython",
    "version": 3
   },
   "file_extension": ".py",
   "mimetype": "text/x-python",
   "name": "python",
   "nbconvert_exporter": "python",
   "pygments_lexer": "ipython3",
   "version": "3.10.9"
  }
 },
 "nbformat": 4,
 "nbformat_minor": 5
}
