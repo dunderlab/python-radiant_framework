{
 "cells": [
  {
   "cell_type": "markdown",
   "id": "bf9144fb-6268-401a-890d-cd3da52a6b10",
   "metadata": {},
   "source": [
    "# Buttons"
   ]
  },
  {
   "cell_type": "markdown",
   "id": "034d8fde-edb1-43b3-886c-a27276d69803",
   "metadata": {},
   "source": [
    "[Buttons](https://m3.material.io/components/buttons)<!-- {.external} --> help people\n",
    "initiate actions, from sending an email, to sharing a document, to liking a\n",
    "post.\n",
    "\n",
    "There are five types of common buttons: elevated, filled, filled tonal,\n",
    "outlined, and text.\n",
    "\n",
    "## Types\n",
    "\n",
    "1.  [Elevated button](#elevated-button)\n",
    "1.  [Filled button](#filled-button)\n",
    "1.  [Filled tonal button](#filled-tonal-button)\n",
    "1.  [Outlined button](#outlined-button)\n",
    "1.  [Text button](#text-button)"
   ]
  },
  {
   "cell_type": "markdown",
   "id": "7030620c-6320-4e83-a92f-cf709103a7b3",
   "metadata": {
    "tags": []
   },
   "source": [
    "## Usage\n",
    "\n",
    "Buttons have label text that describes the action that will occur if a user taps\n",
    "a button."
   ]
  },
  {
   "cell_type": "raw",
   "id": "84953fa1-d39c-460c-8cd1-bf0c0d5f57db",
   "metadata": {
    "raw_mimetype": "text/restructuredtext",
    "tags": []
   },
   "source": [
    ".. brython::\n",
    "   import material_3 as md\n",
    "   \n",
    "   container <= md.outlined_button(label='Back')\n",
    "   container <= md.filled_button(label='Complete')"
   ]
  },
  {
   "cell_type": "markdown",
   "id": "239ba5d1-ec49-4473-89eb-e1bcc0263a8b",
   "metadata": {
    "tags": []
   },
   "source": [
    "### Icon\n",
    "\n",
    "An icon may optionally be added to a button to help communicate the button's\n",
    "action and help draw attention."
   ]
  },
  {
   "cell_type": "raw",
   "id": "645fd64b-9703-41ed-8814-0a10d3b441fe",
   "metadata": {
    "raw_mimetype": "text/restructuredtext",
    "tags": []
   },
   "source": [
    ".. brython::\n",
    "   import material_3 as md\n",
    "   from browser import html, svg\n",
    "   \n",
    "   # container <= md.tonal_button(md.icon('send'), label='Send')   \n",
    "   # container <= md.text_button(md.icon('house'), label='Open', trailingicon=True)\n",
    "   \n",
    "   send_icon = html.SVG(svg.path(d=\"M6 40V8l38 16Zm3-4.65L36.2 24 9 12.5v8.4L21.1 24 9 27Zm0 0V12.5 27Z\"), slot=\"icon\", viewBox=\"0 0 48 48\")\n",
    "   container <= md.tonal_button(send_icon, label=\"Send\")\n",
    "   \n",
    "   open_icon = html.SVG(svg.path(d=\"M9 42q-1.2 0-2.1-.9Q6 40.2 6 39V9q0-1.2.9-2.1Q7.8 6 9 6h13.95v3H9v30h30V25.05h3V39q0 1.2-.9 2.1-.9.9-2.1.9Zm10.1-10.95L17 28.9 36.9 9H25.95V6H42v16.05h-3v-10.9Z\"), slot=\"icon\", viewBox=\"0 0 48 48\")\n",
    "   container <= md.text_button(open_icon, label=\"Open\", trailingicon=True)"
   ]
  },
  {
   "cell_type": "markdown",
   "id": "c7fc8675-8ed6-4b2f-9bb9-e9fb423bfa56",
   "metadata": {},
   "source": [
    "## Accessibility\n",
    "\n",
    "Add an [aria-label](https://developer.mozilla.org/en-US/docs/Web/Accessibility/ARIA/Attributes/aria-label)<!-- {.external} -->\n",
    "attribute to buttons whose labels need a more descriptive label."
   ]
  },
  {
   "cell_type": "raw",
   "id": "36f8f980-eb01-4f02-a3f7-a1691850e060",
   "metadata": {
    "raw_mimetype": "text/restructuredtext",
    "tags": []
   },
   "source": [
    ".. brython::\n",
    "   import material_3 as md\n",
    "   \n",
    "   container <= md.elevated_button(label='Add', aria_label='Add a new contact')"
   ]
  },
  {
   "cell_type": "markdown",
   "id": "fe95975a-0b48-4ac2-837f-231d7089a7a4",
   "metadata": {
    "raw_mimetype": "text/restructuredtext",
    "tags": []
   },
   "source": [
    "## Elevated button\n",
    "\n",
    "<!-- go/md-elevated-button -->\n",
    "\n",
    "[Elevated buttons](https://m3.material.io/components/buttons/guidelines#4e89da4d-a8fa-4e20-bb8d-b8a93eff3e3e)<!-- {.external} -->\n",
    "are essentially filled tonal buttons with a shadow. To prevent shadow creep,\n",
    "only use them when absolutely necessary, such as when the button requires visual\n",
    "separation from a patterned background.\n"
   ]
  },
  {
   "cell_type": "raw",
   "id": "786b0ae7-1980-49ec-b8d7-4621b9266027",
   "metadata": {
    "raw_mimetype": "text/restructuredtext",
    "tags": []
   },
   "source": [
    ".. brython::\n",
    "   import material_3 as md\n",
    "   \n",
    "   container <= md.elevated_button(label='Elevated')"
   ]
  },
  {
   "cell_type": "markdown",
   "id": "89a5f96c-9d21-4b3d-b4df-55ea58538379",
   "metadata": {},
   "source": [
    "## Filled button\n",
    "\n",
    "<!-- go/md-filled-button -->\n",
    "\n",
    "[Filled buttons](https://m3.material.io/components/buttons/guidelines#9ecffdb3-ef29-47e7-8d5d-f78b404fcafe)<!-- {.external} -->\n",
    "have the most visual impact after the FAB, and should be used for important,\n",
    "final actions that complete a flow, like Save, Join now, or Confirm.\n"
   ]
  },
  {
   "cell_type": "raw",
   "id": "788b2876-7f2f-410d-b36f-1c334f82739b",
   "metadata": {
    "raw_mimetype": "text/restructuredtext",
    "tags": []
   },
   "source": [
    ".. brython::\n",
    "   import material_3 as md\n",
    "   \n",
    "   container <= md.filled_button(label='Filled')"
   ]
  },
  {
   "cell_type": "markdown",
   "id": "09313ef2-1564-4b35-acd9-b52d96e2a5c9",
   "metadata": {},
   "source": [
    "## Filled tonal button\n",
    "\n",
    "<!-- go/md-tonal-button -->\n",
    "\n",
    "A\n",
    "[filled tonal button](https://m3.material.io/components/buttons/guidelines#07a1577b-aaf5-4824-a698-03526421058b)<!-- {.external} -->\n",
    "is an alternative middle ground between filled and outlined buttons. They're\n",
    "useful in contexts where a lower-priority button requires slightly more emphasis\n",
    "than an outline would give, such as \"Next\" in an onboarding flow.\n"
   ]
  },
  {
   "cell_type": "raw",
   "id": "8afcd653-cd8f-4ff2-a7bd-c55ac2792e08",
   "metadata": {
    "raw_mimetype": "text/restructuredtext",
    "tags": []
   },
   "source": [
    ".. brython::\n",
    "   import material_3 as md\n",
    "   \n",
    "   container <= md.tonal_button(label='Tonal')"
   ]
  },
  {
   "cell_type": "markdown",
   "id": "f6d41b49-80f4-4afc-a400-ed2fb7c647a7",
   "metadata": {},
   "source": [
    "## Outlined button\n",
    "\n",
    "<!-- go/md-outlined-button -->\n",
    "\n",
    "[Outlined buttons](https://m3.material.io/components/buttons/guidelines#3742b09f-c224-43e0-a83e-541bd29d0f05)<!-- {.external} -->\n",
    "are medium-emphasis buttons. They contain actions that are important, but aren’t\n",
    "the primary action in an app.\n"
   ]
  },
  {
   "cell_type": "raw",
   "id": "1164cc13-8dd9-49f2-9fff-85ea4fbf0dbd",
   "metadata": {
    "raw_mimetype": "text/restructuredtext",
    "tags": []
   },
   "source": [
    ".. brython::\n",
    "   import material_3 as md\n",
    "   \n",
    "   container <= md.outlined_button(label='Outlined')"
   ]
  },
  {
   "cell_type": "markdown",
   "id": "f43104c3-c788-47ea-b74a-e3419615f194",
   "metadata": {},
   "source": [
    "## Text button\n",
    "\n",
    "<!-- go/md-text-button -->\n",
    "\n",
    "[Text buttons](https://m3.material.io/components/buttons/guidelines#c9bcbc0b-ee05-45ad-8e80-e814ae919fbb)<!-- {.external} -->\n",
    "are used for the lowest priority actions, especially when presenting multiple\n",
    "options."
   ]
  },
  {
   "cell_type": "raw",
   "id": "22bc47f6-6d6f-4921-af4b-ed0f3735cf2a",
   "metadata": {
    "raw_mimetype": "text/restructuredtext",
    "tags": []
   },
   "source": [
    ".. brython::\n",
    "   import material_3 as md\n",
    "   \n",
    "   container <= md.text_button(label='Text')"
   ]
  }
 ],
 "metadata": {
  "kernelspec": {
   "display_name": "Python 3 (ipykernel)",
   "language": "python",
   "name": "python3"
  },
  "language_info": {
   "codemirror_mode": {
    "name": "ipython",
    "version": 3
   },
   "file_extension": ".py",
   "mimetype": "text/x-python",
   "name": "python",
   "nbconvert_exporter": "python",
   "pygments_lexer": "ipython3",
   "version": "3.10.9"
  }
 },
 "nbformat": 4,
 "nbformat_minor": 5
}
