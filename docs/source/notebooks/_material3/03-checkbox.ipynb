{
 "cells": [
  {
   "cell_type": "markdown",
   "id": "61daa830-5df2-450d-9fca-a571c1923df8",
   "metadata": {},
   "source": [
    "# Checkbox"
   ]
  },
  {
   "cell_type": "markdown",
   "id": "e9b8b0b2-1b95-4c4a-b0a0-082d5d402aa8",
   "metadata": {},
   "source": [
    "<!--*\n",
    "# Document freshness: For more information, see go/fresh-source.\n",
    "freshness: { owner: 'lizmitchell' reviewed: '2023-01-25' }\n",
    "*-->\n",
    "\n",
    "<!-- go/md-checkbox -->\n",
    "\n",
    "<!-- [TOC] -->\n",
    "\n",
    "[Checkboxes](https://m3.material.io/components/checkbox)<!-- {.external} --> allow users\n",
    "to select one or more items from a set. Checkboxes can turn an option on or off.\n",
    "\n",
    "There's one type of checkbox in Material. Use this selection control when the\n",
    "user needs to select one or more options from a list."
   ]
  },
  {
   "cell_type": "markdown",
   "id": "94cda742-3be1-4525-8f2a-c5804944bd3e",
   "metadata": {},
   "source": [
    "## Usage\n",
    "\n",
    "Checkboxes may be standalone, pre-checked, or indeterminate."
   ]
  },
  {
   "cell_type": "raw",
   "id": "1a464fe0-994a-4792-8614-245794a7b5c9",
   "metadata": {
    "raw_mimetype": "text/restructuredtext",
    "tags": []
   },
   "source": [
    ".. brython::\n",
    "   import material_3 as md\n",
    "   \n",
    "   container <= md.checkbox()\n",
    "   container <= md.checkbox(checked=True)\n",
    "   container <= md.checkbox(indeterminate=True)"
   ]
  },
  {
   "cell_type": "markdown",
   "id": "dcf69c6f-fb50-4c81-accd-2a490bf3067a",
   "metadata": {},
   "source": [
    "### Label\n",
    "\n",
    "Associate a label with a checkbox using the `<label>` element.\n"
   ]
  },
  {
   "cell_type": "raw",
   "id": "0e581cc3-3287-44f7-b0b1-f7627f43c9c0",
   "metadata": {
    "raw_mimetype": "text/restructuredtext",
    "tags": []
   },
   "source": [
    ".. brython::\n",
    "   from browser import html\n",
    "   import material_3 as md\n",
    "   \n",
    "   container <= md.checkbox(id=\"checkbox-two\")\n",
    "   container <= html.LABEL('Checkbox two', for_=\"checkbox-two\")"
   ]
  },
  {
   "cell_type": "markdown",
   "id": "c95d88c5-a5d3-48ba-ab52-925879735503",
   "metadata": {},
   "source": [
    "## Accessibility\n",
    "\n",
    "Add an\n",
    "[aria-label](https://developer.mozilla.org/en-US/docs/Web/Accessibility/ARIA/Attributes/aria-label)<!-- {.external} -->\n",
    "attribute to checkboxes without labels or checkboxes whose labels need to be\n",
    "more descriptive."
   ]
  },
  {
   "cell_type": "raw",
   "id": "2f1bc4df-8912-4b63-8f53-554cd718c355",
   "metadata": {
    "raw_mimetype": "text/restructuredtext",
    "tags": []
   },
   "source": [
    ".. brython::\n",
    "   from browser import html\n",
    "   import material_3 as md\n",
    "   \n",
    "   container <= md.checkbox(aria_label=\"Select all checkboxes\")"
   ]
  }
 ],
 "metadata": {
  "kernelspec": {
   "display_name": "Python 3 (ipykernel)",
   "language": "python",
   "name": "python3"
  },
  "language_info": {
   "codemirror_mode": {
    "name": "ipython",
    "version": 3
   },
   "file_extension": ".py",
   "mimetype": "text/x-python",
   "name": "python",
   "nbconvert_exporter": "python",
   "pygments_lexer": "ipython3",
   "version": "3.10.9"
  }
 },
 "nbformat": 4,
 "nbformat_minor": 5
}
