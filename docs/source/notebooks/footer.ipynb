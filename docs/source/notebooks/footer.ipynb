{
 "cells": [
  {
   "cell_type": "markdown",
   "id": "0ab33e11-4cb2-425a-9d15-1267104e26ab",
   "metadata": {
    "jp-MarkdownHeadingCollapsed": true
   },
   "source": [
    "**Citing Radiant Framework**  \n",
    "If you utilize Radiant in your research or project, we kindly ask that you acknowledge it by citing it in your work. Please use the following BibTeX entry:\n",
    "\n",
    "```bibtex\n",
    "@software{radiant_framework_2023,\n",
    "  author = {Dunderlab},\n",
    "  title = {Radiant Framework},\n",
    "  url = {https://github.com/dunderlab/python-radiant_framework},\n",
    "  version = {0.1a21},\n",
    "  year = {2023}\n",
    "}\n",
    "```\n",
    "\n",
    "Dunderlab. (2023). Radiant Framework (Version 0.1a21) [Software]. Available at https://github.com/dunderlab/python-radiant_framework"
   ]
  }
 ],
 "metadata": {
  "kernelspec": {
   "display_name": "Python 3 (ipykernel)",
   "language": "python",
   "name": "python3"
  },
  "language_info": {
   "codemirror_mode": {
    "name": "ipython",
    "version": 3
   },
   "file_extension": ".py",
   "mimetype": "text/x-python",
   "name": "python",
   "nbconvert_exporter": "python",
   "pygments_lexer": "ipython3",
   "version": "3.11.6"
  }
 },
 "nbformat": 4,
 "nbformat_minor": 5
}
