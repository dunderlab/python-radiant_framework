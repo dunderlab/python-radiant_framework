{
 "cells": [
  {
   "cell_type": "markdown",
   "id": "485d9d9e-f030-4eb8-b6ec-76e9e0b8d380",
   "metadata": {
    "tags": []
   },
   "source": [
    "If you use **Radiant** in your research or project, please consider citing\n",
    "it using the following BibTeX entry:  \n",
    "\n",
    "    @software{radiant,\n",
    "        author = {Dunderlab},\n",
    "        title = {Radiant Framework},\n",
    "        url = {https://github.com/dunderlab/python-radiant_framework},\n",
    "        version = {0.1a2},\n",
    "        date = {2022},\n",
    "    }\n",
    "\n",
    "Dunderlab. (2021). Radiant Framework (Version 0.3.3) [Computersoftware]. Retrieved from https://github.com/dunderlab/python-radiant_framework"
   ]
  }
 ],
 "metadata": {
  "kernelspec": {
   "display_name": "Python 3 (ipykernel)",
   "language": "python",
   "name": "python3"
  },
  "language_info": {
   "codemirror_mode": {
    "name": "ipython",
    "version": 3
   },
   "file_extension": ".py",
   "mimetype": "text/x-python",
   "name": "python",
   "nbconvert_exporter": "python",
   "pygments_lexer": "ipython3",
   "version": "3.10.9"
  }
 },
 "nbformat": 4,
 "nbformat_minor": 5
}
