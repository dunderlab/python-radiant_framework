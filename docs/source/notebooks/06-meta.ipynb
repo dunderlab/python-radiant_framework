{
 "cells": [
  {
   "cell_type": "markdown",
   "id": "b7c4c8e5-4c2e-4bf1-8f77-a1e52dfcf725",
   "metadata": {},
   "source": [
    "# Editing HTML Meta Tags in Radiant\n",
    "\n",
    "Radiant introduces a streamlined way to dynamically update the meta tags of an HTML page. This feature allows for easy modification of essential SEO and social media attributes, enhancing the flexibility of web page metadata management.\n",
    "\n",
    "Meta tags in an HTML document provide important information about the page, which is used by search engines and social media platforms. These tags include details like the page title, description, image, and more. With Radiant, you can dynamically update these tags using the following arguments:\n",
    "\n",
    "`page_title`  \n",
    "`page_favicon`  \n",
    "`page_description`  \n",
    "`page_image`  \n",
    "`page_url`  \n",
    "`page_summary_large_image`  \n",
    "`page_site`  \n",
    "`page_author`  \n",
    "`page_copyright`  "
   ]
  },
  {
   "cell_type": "code",
   "execution_count": null,
   "id": "0f90b671-b90d-4641-91b5-99447a02ae04",
   "metadata": {},
   "outputs": [],
   "source": [
    "if __name__ == '__main__':\n",
    "    RadiantServer(\n",
    "        'BareMinimum',\n",
    "        host='localhost',\n",
    "        port=5000,\n",
    "        brython_version='3.11.2',\n",
    "        debug_level=0,\n",
    "\n",
    "        page_title=\"Example Title\",\n",
    "        page_description=\"Description of the page\",\n",
    "        # Other arguments...\n",
    ")\n",
    "    )"
   ]
  },
  {
   "cell_type": "markdown",
   "id": "c8474a14-04a5-48bb-bb61-6b6c8fb0b3e6",
   "metadata": {},
   "source": [
    "- `page_title`: Updates the content of the `<title>` tag and other relevant meta tags.\n",
    "- `page_favicon`: URL of the favicon for the page.\n",
    "- `page_description`: Sets the description meta tag, used by search engines and social sharing.\n",
    "- `page_image`: URL of the image to be used in Open Graph and Twitter Cards.\n",
    "- `page_url`: Canonical URL of the page.\n",
    "- `page_summary_large_image`: Specific to Twitter Cards, denotes a large summary image.\n",
    "- `page_site`: The Twitter username of the website or site creator.\n",
    "- `page_author`: Author of the page's content.\n",
    "- `page_copyright`: Copyright information of the page."
   ]
  }
 ],
 "metadata": {
  "kernelspec": {
   "display_name": "Python 3 (ipykernel)",
   "language": "python",
   "name": "python3"
  },
  "language_info": {
   "codemirror_mode": {
    "name": "ipython",
    "version": 3
   },
   "file_extension": ".py",
   "mimetype": "text/x-python",
   "name": "python",
   "nbconvert_exporter": "python",
   "pygments_lexer": "ipython3",
   "version": "3.11.6"
  }
 },
 "nbformat": 4,
 "nbformat_minor": 5
}
