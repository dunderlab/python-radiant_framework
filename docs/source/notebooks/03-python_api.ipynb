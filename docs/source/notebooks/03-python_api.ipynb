{
 "cells": [
  {
   "cell_type": "markdown",
   "id": "041f5564-8e8c-4e60-bfea-67e9d326fbc9",
   "metadata": {},
   "source": [
    "# Python API"
   ]
  }
 ],
 "metadata": {
  "kernelspec": {
   "display_name": "Python 3 (ipykernel)",
   "language": "python",
   "name": "python3"
  },
  "language_info": {
   "codemirror_mode": {
    "name": "ipython",
    "version": 3
   },
   "file_extension": ".py",
   "mimetype": "text/x-python",
   "name": "python",
   "nbconvert_exporter": "python",
   "pygments_lexer": "ipython3",
   "version": "3.10.9"
  }
 },
 "nbformat": 4,
 "nbformat_minor": 5
}
