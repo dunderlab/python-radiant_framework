{
 "cells": [
  {
   "metadata": {},
   "cell_type": "markdown",
   "source": [
    "# Host Python\n",
    "Host Python allows you to execute Python code on the server side and access it from your Brython interface. This feature enables:\n",
    "- Server-side Python execution\n",
    "- Integration between browser and server\n",
    "- Access to system resources and Python libraries\n",
    "- Complex calculations and data processing"
   ],
   "id": "2bbd5b1f5070ba03"
  },
  {
   "metadata": {},
   "cell_type": "markdown",
   "source": [
    "## Server-Side Implementation\n",
    "### Creating a Python Handler\n",
    "How to create and configure a Python handler on the server side."
   ],
   "id": "55207131b5b0259d"
  },
  {
   "metadata": {},
   "cell_type": "code",
   "outputs": [],
   "execution_count": null,
   "source": [
    "# handler.py\n",
    "\n",
    "from radiant.framework.server import PythonHandler\n",
    "import math\n",
    "\n",
    "class MyHandler(PythonHandler):\n",
    "    def calculate_square(self, number):\n",
    "        return number * number\n",
    "\n",
    "    def calculate_hypotenuse(self, a, b):\n",
    "        return math.sqrt(a**2 + b**2)"
   ],
   "id": "cc08a14b02c6ff09"
  },
  {
   "metadata": {},
   "cell_type": "markdown",
   "source": [
    "## Client-Side Implementation\n",
    "### Accessing Server Methods\n",
    "How to use the Python handler methods from your Brython code."
   ],
   "id": "1b31f11a98e4b835"
  },
  {
   "metadata": {},
   "cell_type": "code",
   "outputs": [],
   "execution_count": null,
   "source": [
    "from radiant.framework.server import AppRouter, RadiantServer\n",
    "from browser import document, html\n",
    "\n",
    "class MyApp(AppRouter):\n",
    "    def __init__(self, *args, **kwargs):\n",
    "        super().__init__(*args, **kwargs)\n",
    "\n",
    "        # Access server-side methods\n",
    "        result = self.MyHandler.calculate_square(5)\n",
    "        hyp = self.MyHandler.calculate_hypotenuse(3, 4)\n",
    "\n",
    "if __name__ == '__main__':\n",
    "    RadiantServer(\n",
    "        'MyApp',\n",
    "        python=('handler.py', 'MyHandler'),\n",
    "    )"
   ],
   "id": "570ddb3854edeadf"
  }
 ],
 "metadata": {
  "kernelspec": {
   "display_name": "Python 3",
   "language": "python",
   "name": "python3"
  },
  "language_info": {
   "codemirror_mode": {
    "name": "ipython",
    "version": 2
   },
   "file_extension": ".py",
   "mimetype": "text/x-python",
   "name": "python",
   "nbconvert_exporter": "python",
   "pygments_lexer": "ipython2",
   "version": "2.7.6"
  }
 },
 "nbformat": 4,
 "nbformat_minor": 5
}
