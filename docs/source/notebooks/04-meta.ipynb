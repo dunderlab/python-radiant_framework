{
 "cells": [
  {
   "metadata": {},
   "cell_type": "markdown",
   "source": "# HTML Meta Tags in Radiant Framework",
   "id": "df3a024634374235"
  },
  {
   "metadata": {},
   "cell_type": "markdown",
   "source": [
    "## Overview\n",
    "Radiant Framework provides a streamlined approach to manage HTML meta tags dynamically. These meta tags are crucial for:\n",
    "- Search Engine Optimization (SEO)\n",
    "- Social Media Sharing\n",
    "- Website Information\n",
    "- Content Description"
   ],
   "id": "8361a5f3d9133293"
  },
  {
   "metadata": {},
   "cell_type": "markdown",
   "source": [
    "## Available Meta Tags\n",
    "Radiant supports the following meta tag configurations:\n",
    "\n",
    "| Tag | Description | Usage |\n",
    "|-----|-------------|-------|\n",
    "| `page_title` | Sets the page title | Browser tab and search results |\n",
    "| `page_favicon` | Website icon | Browser tab and bookmarks |\n",
    "| `page_description` | Page description | Search results and social sharing |\n",
    "| `page_image` | Preview image | Social media cards |\n",
    "| `page_url` | Canonical URL | Search engines and sharing |\n",
    "| `page_summary_large_image` | Twitter card type | Social media preview size |\n",
    "| `page_site` | Website name | Social media attribution |\n",
    "| `page_author` | Content author | Attribution and ownership |\n",
    "| `page_copyright` | Copyright info | Legal protection |"
   ],
   "id": "abed16a12e45da7a"
  },
  {
   "metadata": {},
   "cell_type": "markdown",
   "source": [
    "## Usage Example\n",
    "Here's how to set meta tags in your Radiant application:"
   ],
   "id": "4d07e55b61f4d446"
  },
  {
   "metadata": {},
   "cell_type": "code",
   "outputs": [],
   "execution_count": null,
   "source": [
    "from radiant.framework.server import RadiantInterfaceApp\n",
    "\n",
    "class MyApp(RadiantInterfaceApp):\n",
    "    def __init__(self, *args, **kwargs):\n",
    "        super().__init__(*args, **kwargs)\n",
    "\n",
    "if __name__ == \"__main__\":\n",
    "    MyApp(\n",
    "        page_title=\"My Radiant App\",\n",
    "        page_description=\"A great web application built with Radiant Framework\",\n",
    "        page_author=\"Your Name\",\n",
    "        page_image=\"https://example.com/preview.jpg\",\n",
    "        page_url=\"https://example.com\",\n",
    "        page_site=\"@yourtwitter\",\n",
    "        page_copyright=\"© 2024 Your Company\",\n",
    "    ).serve()"
   ],
   "id": "daf3e91b5ad8a6c0"
  },
  {
   "metadata": {},
   "cell_type": "markdown",
   "source": [
    "## Best Practices\n",
    "Consider these best practices when working with meta tags:\n",
    "\n",
    "1. **Always Include Essential Tags**\n",
    "   - Title\n",
    "   - Description\n",
    "   - Canonical URL\n",
    "   - Favicon\n",
    "\n",
    "2. **Optimize for Social Sharing**\n",
    "   - Use high-quality preview images\n",
    "   - Write compelling descriptions\n",
    "   - Include appropriate social media handles\n",
    "\n",
    "3. **SEO Considerations**\n",
    "   - Use relevant keywords in descriptions\n",
    "   - Keep titles under 60 characters\n",
    "   - Write unique descriptions for each page\n",
    "\n",
    "4. **Maintenance**\n",
    "   - Regularly update meta information\n",
    "   - Verify image links work\n",
    "   - Keep copyright information current"
   ],
   "id": "fe552f6b954de58c"
  },
  {
   "metadata": {},
   "cell_type": "markdown",
   "source": [
    "## Advanced Features\n",
    "### Dynamic Meta Tags\n",
    "Meta tags can be updated dynamically based on content or user interaction:"
   ],
   "id": "e3add028e8a07a05"
  },
  {
   "metadata": {},
   "cell_type": "code",
   "outputs": [],
   "execution_count": null,
   "source": [
    "class DynamicApp(RadiantInterfaceApp):\n",
    "    def update_meta(self, new_title, new_description):\n",
    "        # Update page meta tags\n",
    "        document.select_one('title').text = new_title\n",
    "        document.select_one('meta[name=\"description\"]').attrs[\"content\"] = new_description\n",
    "        document.select_one('meta[property=\"og:title\"]').attrs[\"content\"] = new_title\n",
    "        document.select_one('meta[property=\"og:description\"]').attrs[\"content\"] = new_description"
   ],
   "id": "40341699c252f268"
  }
 ],
 "metadata": {
  "kernelspec": {
   "display_name": "Python 3",
   "language": "python",
   "name": "python3"
  },
  "language_info": {
   "codemirror_mode": {
    "name": "ipython",
    "version": 2
   },
   "file_extension": ".py",
   "mimetype": "text/x-python",
   "name": "python",
   "nbconvert_exporter": "python",
   "pygments_lexer": "ipython2",
   "version": "2.7.6"
  }
 },
 "nbformat": 4,
 "nbformat_minor": 5
}
