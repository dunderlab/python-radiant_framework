{
 "cells": [
  {
   "cell_type": "markdown",
   "id": "7b1a303c-1137-478a-8ef2-81b7a966ed5e",
   "metadata": {},
   "source": [
    "# Brython Enhancement"
   ]
  },
  {
   "cell_type": "markdown",
   "id": "65c17658-4eac-469c-af0c-5e32d4c8a489",
   "metadata": {},
   "source": [
    "While Brython stands out for its excellence, it's noted that its interaction with HTML could be further enhanced. This observation particularly pertains to the dynamic integration and manipulation of HTML elements within Brython scripts."
   ]
  },
  {
   "cell_type": "code",
   "execution_count": 1,
   "id": "c818102e-f17a-47e4-a01f-0d00b2dac7fe",
   "metadata": {},
   "outputs": [],
   "source": [
    "from radiant.framework import html, select"
   ]
  },
  {
   "cell_type": "markdown",
   "id": "e3c40889-0318-420f-b941-d9072242d1af",
   "metadata": {},
   "source": [
    "The Radiant framework introduces some modules and functions that serve as replacements for Brython's standard modules. These modules are designed to extend and refine the functionalities typically offered by Brython, tailoring them more specifically for the Radiant framework's context."
   ]
  },
  {
   "cell_type": "markdown",
   "id": "1876fa5c-e0c4-4117-bd7d-491f95823202",
   "metadata": {},
   "source": [
    "## `select`\n",
    "\n",
    "The `select` function in Radiant framework offers a unique capability: it allows functions to be applied directly to the list returned, as if it were a single element. This feature significantly simplifies the manipulation of HTML elements, streamlining the process of applying changes or retrieving information."
   ]
  },
  {
   "cell_type": "code",
   "execution_count": null,
   "id": "dfbe87f6-7afa-4fa6-a60d-cad30a6fe7b2",
   "metadata": {},
   "outputs": [],
   "source": [
    "selection = select('.my-class')\n",
    "\n",
    "selection.bind('mouseover', lambda evt: print(evt))\n",
    "setattr(title.style, 'color', 'cyan')\n",
    "selection.style.color = 'cyan'\n",
    "selection.style = {'background-color': 'red', }"
   ]
  },
  {
   "cell_type": "markdown",
   "id": "e5332478-aac4-462e-b7b2-a0485963eaca",
   "metadata": {},
   "source": [
    "## `html` Extensions\n",
    "\n",
    "An innovative addition to the Radiant framework's `html` module is the `classes` method. This method is designed to simplify the dynamic management of CSS classes in HTML elements, enhancing the ease and flexibility of styling and theming."
   ]
  },
  {
   "cell_type": "code",
   "execution_count": null,
   "id": "5580aa92-9a8a-478d-ba6d-08900384cca0",
   "metadata": {},
   "outputs": [],
   "source": [
    "title = html.H1('Radiant-Framework', Class='my-class')\n",
    "\n",
    "title.classes.append('new-class')\n",
    "title.classes.extend(['new-new-class', 'new-new-new-class'])"
   ]
  },
  {
   "cell_type": "markdown",
   "id": "596b1ea8-8a0d-4d90-8df1-72392ce022e9",
   "metadata": {},
   "source": [
    "## `html` as Context Manager\n",
    "\n",
    "A notable functionality of the Radiant framework's `html` module is its use as a Context Manager. This approach greatly enhances the flexibility in nesting components, a common practice in HTML, by simplifying the structure and syntax required for creating complex HTML hierarchies."
   ]
  },
  {
   "cell_type": "code",
   "execution_count": null,
   "id": "c98a1b1a-86b8-437d-8bbc-ebcc707ca5a6",
   "metadata": {},
   "outputs": [],
   "source": [
    "with html.DIV(style={'background-color': 'blue'}).context(parent):\n",
    "    with html.DIV().context:\n",
    "        with html.SPAN().context as span:\n",
    "            span.html = \"Texto de ejemplo\""
   ]
  },
  {
   "cell_type": "markdown",
   "id": "69f8e8e7-d311-490d-9915-c577ee587aad",
   "metadata": {},
   "source": [
    "## `styles` object\n",
    "\n",
    "Radiant introduces the `styles` object, an innovative way to interact with CSS styles of DOM elements. This object simplifies style manipulation, especially when working with multiple elements, and provides a more intuitive, Pythonic interface.\n",
    "\n",
    "The `styles` object can be accessed on a selection of elements, allowing you to get or set styles in a more readable and Python-friendly way."
   ]
  },
  {
   "cell_type": "code",
   "execution_count": null,
   "id": "c91d728d-61ef-4ca0-ba41-d7bcea6d2601",
   "metadata": {},
   "outputs": [],
   "source": [
    "selection = select('.my-class')\n",
    "selection.styles.background_color = 'pink'"
   ]
  },
  {
   "cell_type": "markdown",
   "id": "ced25dea-0c6d-4e56-8643-145b19c69d76",
   "metadata": {},
   "source": [
    "In this example, `background_color` is a property of the `styles` object. It corresponds to the `background-color` CSS property. Setting this property updates the style of all elements in the selection."
   ]
  },
  {
   "cell_type": "code",
   "execution_count": null,
   "id": "cfc38f28-b72f-458b-99f0-0a0c89181ccb",
   "metadata": {},
   "outputs": [],
   "source": [
    "selection = select('.my-class')\n",
    "selection.styles.background_color = 'pink'"
   ]
  },
  {
   "cell_type": "markdown",
   "id": "5818b0f7-71fc-45dc-8c6f-4eec307c8d6e",
   "metadata": {},
   "source": [
    "The styles object allows you to replace multiple styles at once in a more Pythonic manner, avoiding the traditional dictionary syntax."
   ]
  },
  {
   "cell_type": "code",
   "execution_count": null,
   "id": "d448a0c1-ae6e-4354-958e-cbe06bfb8fab",
   "metadata": {},
   "outputs": [],
   "source": [
    "selection = select('.my-class')\n",
    "selection.styles.background_color = 'red'\n",
    "selection.styles.color = 'white'"
   ]
  },
  {
   "cell_type": "markdown",
   "id": "36e928ea-9576-4443-8dd9-9d1533be7128",
   "metadata": {},
   "source": [
    "This code replaces the traditional dictionary-based approach:"
   ]
  },
  {
   "cell_type": "code",
   "execution_count": null,
   "id": "040ae2fa-efd6-42a4-9ef6-eb23e978ce6c",
   "metadata": {},
   "outputs": [],
   "source": [
    "selection.style = {'background-color': 'red', 'color': 'white'}"
   ]
  }
 ],
 "metadata": {
  "kernelspec": {
   "display_name": "Python 3 (ipykernel)",
   "language": "python",
   "name": "python3"
  },
  "language_info": {
   "codemirror_mode": {
    "name": "ipython",
    "version": 3
   },
   "file_extension": ".py",
   "mimetype": "text/x-python",
   "name": "python",
   "nbconvert_exporter": "python",
   "pygments_lexer": "ipython3",
   "version": "3.13.1"
  }
 },
 "nbformat": 4,
 "nbformat_minor": 5
}
