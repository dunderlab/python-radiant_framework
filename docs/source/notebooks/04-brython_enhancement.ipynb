{
 "cells": [
  {
   "cell_type": "markdown",
   "id": "7b1a303c-1137-478a-8ef2-81b7a966ed5e",
   "metadata": {},
   "source": [
    "# Brython Enhancement"
   ]
  },
  {
   "cell_type": "markdown",
   "id": "65c17658-4eac-469c-af0c-5e32d4c8a489",
   "metadata": {},
   "source": [
    "While Brython stands out for its excellence, it's noted that its interaction with HTML could be further enhanced. This observation particularly pertains to the dynamic integration and manipulation of HTML elements within Brython scripts."
   ]
  },
  {
   "cell_type": "code",
   "execution_count": 1,
   "id": "c818102e-f17a-47e4-a01f-0d00b2dac7fe",
   "metadata": {},
   "outputs": [],
   "source": [
    "from radiant.framework import html, select"
   ]
  },
  {
   "cell_type": "markdown",
   "id": "e3c40889-0318-420f-b941-d9072242d1af",
   "metadata": {},
   "source": [
    "The Radiant framework introduces two modules that serve as replacements for Brython's standard modules. These modules are designed to extend and refine the functionalities typically offered by Brython, tailoring them more specifically for the Radiant framework's context."
   ]
  },
  {
   "cell_type": "markdown",
   "id": "1876fa5c-e0c4-4117-bd7d-491f95823202",
   "metadata": {},
   "source": [
    "## Select Module\n",
    "\n",
    "The `select` module in Radiant framework offers a unique capability: it allows functions to be applied directly to the list returned, as if it were a single element. This feature significantly simplifies the manipulation of HTML elements, streamlining the process of applying changes or retrieving information."
   ]
  },
  {
   "cell_type": "code",
   "execution_count": null,
   "id": "dfbe87f6-7afa-4fa6-a60d-cad30a6fe7b2",
   "metadata": {},
   "outputs": [],
   "source": [
    "selection = select('.my-class')\n",
    "\n",
    "selection.bind('mouseover', lambda evt: print(evt))\n",
    "setattr(title.style, 'color', 'cyan')\n",
    "selection.style.color = 'cyan'\n",
    "selection.style = {'background-color': 'red', }"
   ]
  },
  {
   "cell_type": "markdown",
   "id": "e5332478-aac4-462e-b7b2-a0485963eaca",
   "metadata": {},
   "source": [
    "## HTML Module\n",
    "\n",
    "An innovative addition to the Radiant framework's `html` module is the `classes` method. This method is designed to simplify the dynamic management of CSS classes in HTML elements, enhancing the ease and flexibility of styling and theming."
   ]
  },
  {
   "cell_type": "code",
   "execution_count": null,
   "id": "5580aa92-9a8a-478d-ba6d-08900384cca0",
   "metadata": {},
   "outputs": [],
   "source": [
    "title = html.H1('Radiant-Framework', Class='my-class')\n",
    "\n",
    "title.classes.append('new-class')\n",
    "title.classes.extend(['new-new-class', 'new-new-new-class'])"
   ]
  },
  {
   "cell_type": "markdown",
   "id": "596b1ea8-8a0d-4d90-8df1-72392ce022e9",
   "metadata": {},
   "source": [
    "## HTML as Context Manager\n",
    "\n",
    "A notable functionality of the Radiant framework's `html` module is its use as a Context Manager. This approach greatly enhances the flexibility in nesting components, a common practice in HTML, by simplifying the structure and syntax required for creating complex HTML hierarchies."
   ]
  },
  {
   "cell_type": "code",
   "execution_count": null,
   "id": "c98a1b1a-86b8-437d-8bbc-ebcc707ca5a6",
   "metadata": {},
   "outputs": [],
   "source": [
    "with html.DIV(style={'background-color': 'blue'}).context(parent):\n",
    "    with html.DIV().context:\n",
    "        with html.SPAN().context as span:\n",
    "            span.html = \"Texto de ejemplo\""
   ]
  }
 ],
 "metadata": {
  "kernelspec": {
   "display_name": "Python 3 (ipykernel)",
   "language": "python",
   "name": "python3"
  },
  "language_info": {
   "codemirror_mode": {
    "name": "ipython",
    "version": 3
   },
   "file_extension": ".py",
   "mimetype": "text/x-python",
   "name": "python",
   "nbconvert_exporter": "python",
   "pygments_lexer": "ipython3",
   "version": "3.11.6"
  }
 },
 "nbformat": 4,
 "nbformat_minor": 5
}
