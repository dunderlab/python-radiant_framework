{
 "cells": [
  {
   "cell_type": "markdown",
   "metadata": {},
   "source": [
    "# Radiant Framework"
   ]
  },
  {
   "cell_type": "markdown",
   "metadata": {},
   "source": [
    "## Brython\n",
    "\n",
    "[Brython](https://www.brython.info/index.html) (Browser Python) represents a pioneering approach, aimed at supplanting JavaScript with Python as the primary scripting language for web development. Uniquely crafted as a Python 3 implementation, Brython is meticulously tailored to harmonize with the HTML5 framework. This adaptation ensures seamless integration with the Document Object Model (DOM), enabling interaction with web page elements and responsiveness to user-triggered events, thus offering a robust and intuitive environment for modern web applications.\n",
    "\n",
    "Radiant, a versatile web framework, extends its functionality by integrating Brython. This integration allows developers to write Python code that runs directly in the browser, bypassing the traditional need for JavaScript. This feature simplifies the process of creating interactive web applications by leveraging the familiarity and power of Python."
   ]
  },
  {
   "cell_type": "markdown",
   "metadata": {},
   "source": [
    "## Radiant\n",
    "\n",
    "Radiant emerges as an innovative framework uniquely designed for Brython, distinguished by its remarkable capability to be executed directly from Python. This exceptional feature empowers you to write Python code, save it as a file, and then seamlessly execute and interact with it in a web browser. At its core, Radiant embraces an object-oriented paradigm, necessitating the use of classes. Crucially, it mandates the inheritance from `RadiantAPI`, a cornerstone class that provides the foundational structure and functionalities essential for leveraging the full potential of the Radiant framework in Brython-based web applications."
   ]
  },
  {
   "cell_type": "code",
   "execution_count": null,
   "metadata": {},
   "outputs": [],
   "source": [
    "from radiant.framework.server import RadiantAPI\n",
    "from browser import document, html\n",
    "\n",
    "class BareMinimum(RadiantAPI):\n",
    "\n",
    "    def __init__(self, *args, **kwargs):\n",
    "        super().__init__(*args, **kwargs)\n",
    "        document.select_one('body') <= html.H1('Radiant-Framework')\n",
    "\n",
    "if __name__ == '__main__':\n",
    "    BareMinimum()"
   ]
  },
  {
   "cell_type": "raw",
   "metadata": {},
   "source": [
    "Radiant server running on port 5000"
   ]
  },
  {
   "cell_type": "markdown",
   "metadata": {},
   "source": [
    "## RadiantServer Options\n",
    "\n",
    "The `RadiantServer` class plays a pivotal role in the Radiant framework, functioning as the engine for processing additional configuration options. This class allows for a higher level of customization and control over the behavior of Brython applications. By extending `RadiantServer`, developers can fine-tune aspects such as server settings, resource management, and response handling, thus enhancing the overall functionality and efficiency of their web applications."
   ]
  },
  {
   "cell_type": "code",
   "execution_count": null,
   "metadata": {},
   "outputs": [],
   "source": [
    "from radiant.framework.server import RadiantAPI, RadiantServer\n",
    "from browser import document, html\n",
    "\n",
    "\n",
    "class BareMinimum(RadiantAPI):\n",
    "\n",
    "    # ----------------------------------------------------------------------\n",
    "    def __init__(self, *args, **kwargs):\n",
    "        \"\"\"\"\"\"\n",
    "        super().__init__(*args, **kwargs)\n",
    "        document.select_one('body') <= html.H1('Radiant Framework')\n",
    "        document.select_one('body') <= html.H2('Options')\n",
    "\n",
    "\n",
    "if __name__ == '__main__':\n",
    "    RadiantServer(\n",
    "        'BareMinimum',\n",
    "        host='localhost',\n",
    "        port=5000,\n",
    "        brython_version='3.11.2',\n",
    "        debug_level=0,\n",
    "    )\n"
   ]
  },
  {
   "cell_type": "markdown",
   "metadata": {},
   "source": [
    "The configuration options for Brython in Radiant include fundamental parameters like:\n",
    "- `host='localhost'`: Specifies the server address, with 'localhost' indicating that the server runs on the local machine.\n",
    "- `port=5000`: Determines the port number for the server, where 5000 is a common default for web applications.\n",
    "- `brython_version='3.11.2'`: Sets the version of Brython to be used, ensuring compatibility and feature support.\n",
    "- `debug_level=0`: Adjusts the level of debugging information displayed, with 0 typically representing minimal output."
   ]
  },
  {
   "cell_type": "markdown",
   "metadata": {},
   "source": [
    "## Multipage Support\n",
    "\n",
    "One of the most useful features of the Radiant framework is the ability to create multi-page web applications. This feature allows developers to organize content and functionality across different pages, enhancing user experience and navigation. Implementing multipage support in Radiant is straightforward and offers a scalable way to structure complex web applications."
   ]
  },
  {
   "cell_type": "code",
   "execution_count": null,
   "metadata": {},
   "outputs": [],
   "source": [
    "from radiant.framework.server import RadiantAPI, RadiantServer\n",
    "from browser import document, html\n",
    "\n",
    "\n",
    "class BareMinimum(RadiantAPI):\n",
    "\n",
    "    # ----------------------------------------------------------------------\n",
    "    def __init__(self, *args, **kwargs):\n",
    "        \"\"\"\"\"\"\n",
    "        super().__init__(*args, **kwargs)\n",
    "        document.select_one('body') <= html.H1('Hello World')\n",
    "        document.select_one('body') <= html.H2('Multipage support')\n",
    "        document.select_one('body') <= html.A('second page', href='/multipage')\n",
    "\n",
    "\n",
    "if __name__ == '__main__':\n",
    "    RadiantServer(\n",
    "        'BareMinimum',\n",
    "        pages=([r'^/multipage$', '_second_page.Second'],),\n",
    "    )"
   ]
  }
 ],
 "metadata": {
  "kernelspec": {
   "display_name": "Python 3 (ipykernel)",
   "language": "python",
   "name": "python3"
  },
  "language_info": {
   "codemirror_mode": {
    "name": "ipython",
    "version": 3
   },
   "file_extension": ".py",
   "mimetype": "text/x-python",
   "name": "python",
   "nbconvert_exporter": "python",
   "pygments_lexer": "ipython3",
   "version": "3.12.6"
  }
 },
 "nbformat": 4,
 "nbformat_minor": 4
}
