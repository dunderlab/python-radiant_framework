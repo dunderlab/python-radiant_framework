{
 "cells": [
  {
   "cell_type": "markdown",
   "id": "b4d116d9",
   "metadata": {},
   "source": [
    "\n",
    "# Dynamic Web Applications: Exploring Radian Framework with Brython Templates\n",
    "\n",
    "Delve into the intricacies of creating dynamic and responsive web applications using the Radian framework. This notebook offers a comprehensive guide to integrating Brython Templates with Python code. We will showcase how the `StaticApp` class, a key component in our examples, effectively renders dynamic HTML content, bridging the gap between Python and web development.\n"
   ]
  },
  {
   "cell_type": "markdown",
   "id": "0958813c",
   "metadata": {},
   "source": [
    "\n",
    "## HTML Template Example: `main.html`\n",
    "\n",
    "In this section, we demonstrate the use of Brython Templates with a sample `main.html` file. This HTML template includes dynamic placeholders (e.g., `{title}`) and loops (e.g., `b-code=\"for item in items:\"`) that are filled with data provided by the Python code in the `StaticApp` class. The integration of these templates allows for the creation of web pages with content that changes based on the Python code's output.\n"
   ]
  },
  {
   "cell_type": "raw",
   "id": "fd37bd34",
   "metadata": {},
   "source": [
    "\n",
    "<div class=\"\">\n",
    "    <h1>Brython Templates</h1>\n",
    "    <h2>{title}</h2>\n",
    "</div>\n",
    "\n",
    "<div class=\"\">\n",
    "    <h1>Brython Templates b-code</h1>\n",
    "    <h2 b-code=\"for item in items:\">{item}</h2>\n",
    "</div>\n"
   ]
  },
  {
   "cell_type": "markdown",
   "id": "a8a1aca9",
   "metadata": {},
   "source": [
    "\n",
    "## Python Integration: The `StaticApp` Class\n",
    "\n",
    "Below, the `StaticApp` class within the Radiant framework is defined, showcasing the use of the `render` function. This function is instrumental in integrating Python's dynamic data into HTML templates. The class consists of an `__init__` method for initial setup and a `main` method that prepares the context for the HTML template. The context includes a dynamic title and a list of items, which are rendered into the HTML template (`main.html`) to create a dynamic web page.\n"
   ]
  },
  {
   "cell_type": "code",
   "execution_count": null,
   "id": "cc0cc739",
   "metadata": {},
   "outputs": [],
   "source": [
    "\n",
    "from radiant.framework.server import AppRouter, RadiantServer, render\n",
    "from radiant.framework import html\n",
    "\n",
    "class StaticApp(AppRouter):\n",
    "    def __init__(self, *args, **kwargs):\n",
    "        \"\"\"\n",
    "        Initialize the StaticApp class. This method sets up the basic HTML structure of the application.\n",
    "        It inherits from RadiantAPI to leverage its functionalities.\n",
    "\n",
    "        Args:\n",
    "            *args: Variable length argument list.\n",
    "            **kwargs: Arbitrary keyword arguments.\n",
    "        \"\"\"\n",
    "        super().__init__(*args, **kwargs)\n",
    "        # Create a main header element and add it to the body of the HTML.\n",
    "        self.body <= html.H1('Radiant-Framework')\n",
    "        # Invoke the main method to get the primary content and append it to the body.\n",
    "        self.body <= self.main()\n",
    "\n",
    "    def main(self):\n",
    "        \"\"\"\n",
    "        Main method for rendering the HTML content. This method prepares a context dictionary with data\n",
    "        and uses it to render an HTML template.\n",
    "\n",
    "        Returns:\n",
    "            The rendered HTML content using the 'main.html' template and provided context.\n",
    "        \"\"\"\n",
    "        # Context dictionary with data to be passed into the HTML template.\n",
    "        context = {\n",
    "            'title': 'Dynamic Title',  # Title to be dynamically inserted into the template.\n",
    "            'items': [f'item-{i}' for i in range(10)]  # List of items to be displayed in the template.\n",
    "        }\n",
    "        # Render and return the 'main.html' template with the provided context.\n",
    "        return render('main.html', context)\n",
    "\n",
    "if __name__ == '__main__':\n",
    "    # If this script is the main program, instantiate and run the StaticApp.\n",
    "    StaticApp()\n"
   ]
  }
 ],
 "metadata": {
  "kernelspec": {
   "display_name": "Python 3 (ipykernel)",
   "language": "python",
   "name": "python3"
  },
  "language_info": {
   "codemirror_mode": {
    "name": "ipython",
    "version": 3
   },
   "file_extension": ".py",
   "mimetype": "text/x-python",
   "name": "python",
   "nbconvert_exporter": "python",
   "pygments_lexer": "ipython3",
   "version": "3.11.6"
  }
 },
 "nbformat": 4,
 "nbformat_minor": 5
}
