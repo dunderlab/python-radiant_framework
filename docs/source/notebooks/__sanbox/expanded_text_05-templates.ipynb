{
 "cells": [
  {
   "cell_type": "markdown",
   "id": "b4d116d9",
   "metadata": {},
   "source": [
    "\n",
    "# Enhanced Documentation: Dynamic Web Applications with Radian Framework\n",
    "\n",
    "This notebook provides an in-depth overview and practical examples of using templates within the Radian framework, focusing on Brython Templates integration. We explore how to create dynamic and responsive web applications by interweaving Python code with HTML templates. The `StaticApp` class, as shown in the Python section, demonstrates this integration by rendering dynamic content into HTML using the `render` function from the Radiant framework.\n"
   ]
  },
  {
   "cell_type": "markdown",
   "id": "0958813c",
   "metadata": {},
   "source": [
    "\n",
    "## HTML Template Example: `main.html`\n",
    "\n",
    "In this section, we demonstrate the use of Brython Templates with a sample `main.html` file. This HTML template includes dynamic placeholders (e.g., `{title}`) and loops (e.g., `b-code=\"for item in items:\"`) that are filled with data provided by the Python code in the `StaticApp` class. The integration of these templates allows for the creation of web pages with content that changes based on the Python code's output.\n"
   ]
  },
  {
   "cell_type": "raw",
   "id": "fd37bd34",
   "metadata": {},
   "source": [
    "\n",
    "<div class=\"\">\n",
    "    <h1>Brython Templates</h1>\n",
    "    <h2>{title}</h2>\n",
    "</div>\n",
    "\n",
    "<div class=\"\">\n",
    "    <h1>Brython Templates b-code</h1>\n",
    "    <h2 b-code=\"for item in items:\">{item}</h2>\n",
    "</div>\n"
   ]
  },
  {
   "cell_type": "markdown",
   "id": "a8a1aca9",
   "metadata": {},
   "source": [
    "\n",
    "## Python Integration: The `StaticApp` Class\n",
    "\n",
    "Below, the `StaticApp` class within the Radiant framework is defined, showcasing the use of the `render` function. This function is instrumental in integrating Python's dynamic data into HTML templates. The class consists of an `__init__` method for initial setup and a `main` method that prepares the context for the HTML template. The context includes a dynamic title and a list of items, which are rendered into the HTML template (`main.html`) to create a dynamic web page.\n"
   ]
  },
  {
   "cell_type": "code",
   "execution_count": null,
   "id": "cc0cc739",
   "metadata": {},
   "outputs": [],
   "source": [
    "\n",
    "from radiant.framework.server import AppRouter, RadiantServer, render\n",
    "from radiant.framework import html\n",
    "\n",
    "class StaticApp(AppRouter):\n",
    "    def __init__(self, *args, **kwargs):\n",
    "        super().__init__(*args, **kwargs)\n",
    "        # Create a main header element and add it to the body of the HTML.\n",
    "        self.body <= html.H1('Radiant-Framework')\n",
    "        # Invoke the main method to get the primary content and append it to the body.\n",
    "        self.body <= self.main()\n",
    "\n",
    "    def main(self):\n",
    "        # Context dictionary with data to be passed into the HTML template.\n",
    "        context = {\n",
    "            'title': 'Dynamic Title',  # Title to be dynamically inserted into the template.\n",
    "            'items': [f'item-{i}' for i in range(10)]  # List of items to be displayed in the template.\n",
    "        }\n",
    "        # Render and return the 'main.html' template with the provided context.\n",
    "        return render('main.html', context)\n",
    "\n",
    "if __name__ == '__main__':\n",
    "    # If this script is the main program, instantiate and run the StaticApp.\n",
    "    StaticApp()\n"
   ]
  }
 ],
 "metadata": {
  "kernelspec": {
   "display_name": "Python 3 (ipykernel)",
   "language": "python",
   "name": "python3"
  },
  "language_info": {
   "codemirror_mode": {
    "name": "ipython",
    "version": 3
   },
   "file_extension": ".py",
   "mimetype": "text/x-python",
   "name": "python",
   "nbconvert_exporter": "python",
   "pygments_lexer": "ipython3",
   "version": "3.11.6"
  }
 },
 "nbformat": 4,
 "nbformat_minor": 5
}
