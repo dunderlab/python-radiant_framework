{
 "cells": [
  {
   "cell_type": "markdown",
   "id": "041f5564-8e8c-4e60-bfea-67e9d326fbc9",
   "metadata": {},
   "source": [
    "\n",
    "## Visión General de la API en Python\n",
    "\n",
    "Este notebook ofrece una guía completa para interactuar con APIs utilizando Python. \n",
    "Cubriendo desde los fundamentos hasta técnicas avanzadas, está diseñado para proporcionar \n",
    "a los desarrolladores y entusiastas del software una comprensión profunda y práctica de cómo \n",
    "utilizar Python para integrarse eficazmente con diversas APIs. Ya sea que estés buscando automatizar \n",
    "tareas, acceder a datos remotos o construir aplicaciones más dinámicas, este documento será tu recurso esencial.\n",
    "\n",
    "\n",
    "### Adicionalmente\n",
    "Este apartado proporciona información adicional y contexto relevante para el código anterior."
   ]
  },
  {
   "cell_type": "markdown",
   "id": "804311a2-deb1-4971-b223-29758abf9e16",
   "metadata": {},
   "source": [
    "A distinctive feature of Radiant Framework is its ability to execute pure Python code directly from the interface through the Tornado server. This integration facilitates seamless Python scripting within a web-based environment, enhancing the interactivity and functionality of web applications developed using Brython.\n",
    "\n",
    "### Adicionalmente\n",
    "Este apartado proporciona información adicional y contexto relevante para el código anterior."
   ]
  },
  {
   "cell_type": "markdown",
   "id": "0df7ff91-892f-4a89-9cc1-d14aebcb1936",
   "metadata": {},
   "source": [
    "\n",
    "To implement this feature, the Python code must be hosted in a separate script, within a class that inherits from `PythonHandler`. This approach organizes the code efficiently and leverages the capabilities of the Tornado server for Python execution.\n",
    "\n",
    "\n",
    "### Adicionalmente\n",
    "Este apartado proporciona información adicional y contexto relevante para el código anterior."
   ]
  },
  {
   "cell_type": "code",
   "execution_count": null,
   "id": "4935bd2d-9c73-45a6-9678-ad83f08e11b8",
   "metadata": {},
   "outputs": [],
   "source": [
    "from radiant.framework.server import PythonHandler\n",
    "import math\n",
    "\n",
    "\n",
    "class MyClass(PythonHandler):\n",
    "    \n",
    "    def local_python(self):\n",
    "        return \"This file are running from Local Python environment\"\n",
    "\n",
    "    def pitagoras(self, a, b):\n",
    "        return math.sqrt(a**2 + b**2)\n",
    "\n",
    "    def test(self):\n",
    "        return True"
   ]
  },
  {
   "cell_type": "markdown",
   "id": "fb2bade0-a921-4ea0-a1ee-0eb931986f7e",
   "metadata": {},
   "source": [
    "\n",
    "Next, it's necessary to configure the main script to load this module. In this case, you should include `python=('python_foo.py', 'MyClass')` in the arguments of `RadiantServer`. This setup ensures that the specified Python class is correctly loaded and integrated into the server environment.\n",
    "\n",
    "\n",
    "### Adicionalmente\n",
    "Este apartado proporciona información adicional y contexto relevante para el código anterior."
   ]
  },
  {
   "cell_type": "markdown",
   "id": "4412da6a-d5d9-4f0d-9cc2-7ae2a1961542",
   "metadata": {},
   "source": [
    "This configuration defines how we use the module and the name we assign to it. In this instance, we are using `MyClass` as the name for our module.\n",
    "\n",
    "### Adicionalmente\n",
    "Este apartado proporciona información adicional y contexto relevante para el código anterior."
   ]
  },
  {
   "cell_type": "code",
   "execution_count": null,
   "id": "44923bf9-aafa-49f1-9693-0aa6bf84669b",
   "metadata": {},
   "outputs": [],
   "source": [
    "class BareMinimum(RadiantAPI):\n",
    "\n",
    "    def __init__(self, *args, **kwargs):\n",
    "        super().__init__(*args, **kwargs)\n",
    "        document.select_one('body') <= html.H1('Radiant-Framework')\n",
    "\n",
    "        c = self.MyClass.pitagoras(3, 5)"
   ]
  },
  {
   "cell_type": "markdown",
   "id": "3a70453c-a348-4764-a7c2-e12301676e68",
   "metadata": {},
   "source": [
    "The complete code for this implementation is presented below:\n",
    "\n",
    "### Adicionalmente\n",
    "Este apartado proporciona información adicional y contexto relevante para el código anterior."
   ]
  },
  {
   "cell_type": "code",
   "execution_count": null,
   "id": "768df2f1-3cb6-41e1-bd66-10a6062673f3",
   "metadata": {},
   "outputs": [],
   "source": [
    "from radiant.framework.server import RadiantAPI, RadiantServer\n",
    "from browser import document, html\n",
    "\n",
    "class BareMinimum(RadiantAPI):\n",
    "\n",
    "    def __init__(self, *args, **kwargs):\n",
    "        super().__init__(*args, **kwargs)\n",
    "        document.select_one('body') <= html.H1('Radiant-Framework')\n",
    "\n",
    "        c = self.MyClass.pitagoras(3, 5)\n",
    "\n",
    "if __name__ == '__main__':\n",
    "    RadiantServer(\n",
    "        'BareMinimum',\n",
    "        python=('python_foo.py', 'MyClass'),\n",
    "    )"
   ]
  }
 ],
 "metadata": {
  "kernelspec": {
   "display_name": "Python 3 (ipykernel)",
   "language": "python",
   "name": "python3"
  },
  "language_info": {
   "codemirror_mode": {
    "name": "ipython",
    "version": 3
   },
   "file_extension": ".py",
   "mimetype": "text/x-python",
   "name": "python",
   "nbconvert_exporter": "python",
   "pygments_lexer": "ipython3",
   "version": "3.11.6"
  }
 },
 "nbformat": 4,
 "nbformat_minor": 5
}
