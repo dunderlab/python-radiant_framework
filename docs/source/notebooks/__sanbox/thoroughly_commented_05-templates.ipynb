{
 "cells": [
  {
   "cell_type": "markdown",
   "id": "b4d116d9",
   "metadata": {},
   "source": [
    "\n",
    "# Enhanced Documentation: Templates in Radian Framework\n",
    "\n",
    "This notebook provides a detailed overview and practical examples of using templates within the Radian framework, specifically focusing on the integration with Brython Templates. We will explore how templates can be utilized to create dynamic and responsive web applications.\n"
   ]
  },
  {
   "cell_type": "markdown",
   "id": "0958813c",
   "metadata": {},
   "source": [
    "\n",
    "## HTML Template Example\n",
    "\n",
    "The `main.html` file serves as an example of how Brython Templates can be integrated with HTML. The template includes placeholders and loops, which will be dynamically filled with data from the Python code.\n"
   ]
  },
  {
   "cell_type": "raw",
   "id": "fd37bd34",
   "metadata": {},
   "source": [
    "\n",
    "<div class=\"\">\n",
    "    <h1>Brython Templates</h1>\n",
    "    <h2>{title}</h2>\n",
    "</div>\n",
    "\n",
    "<div class=\"\">\n",
    "    <h1>Brython Templates b-code</h1>\n",
    "    <h2 b-code=\"for item in items:\">{item}</h2>\n",
    "</div>\n"
   ]
  },
  {
   "cell_type": "markdown",
   "id": "a8a1aca9",
   "metadata": {},
   "source": [
    "\n",
    "## Python Integration with Templates\n",
    "\n",
    "The following Python code demonstrates the use of the `render` function within the Radiant framework. This function is crucial for integrating dynamic data from Python into the HTML template, enabling the creation of responsive web pages.\n"
   ]
  },
  {
   "cell_type": "code",
   "execution_count": null,
   "id": "cc0cc739",
   "metadata": {},
   "outputs": [],
   "source": [
    "\n",
    "from radiant.framework.server import RadiantAPI, RadiantServer, render\n",
    "from radiant.framework import html\n",
    "\n",
    "class StaticApp(RadiantAPI):\n",
    "    def __init__(self, *args, **kwargs):\n",
    "        \"\"\"\n",
    "        Initialize the StaticApp class. This method sets up the basic HTML structure of the application.\n",
    "        It inherits from RadiantAPI to leverage its functionalities.\n",
    "\n",
    "        Args:\n",
    "            *args: Variable length argument list.\n",
    "            **kwargs: Arbitrary keyword arguments.\n",
    "        \"\"\"\n",
    "        super().__init__(*args, **kwargs)\n",
    "        # Create a main header element and add it to the body of the HTML.\n",
    "        self.body <= html.H1('Radiant-Framework')\n",
    "        # Invoke the main method to get the primary content and append it to the body.\n",
    "        self.body <= self.main()\n",
    "\n",
    "    def main(self):\n",
    "        \"\"\"\n",
    "        Main method for rendering the HTML content. This method prepares a context dictionary with data\n",
    "        and uses it to render an HTML template.\n",
    "\n",
    "        Returns:\n",
    "            The rendered HTML content using the 'main.html' template and provided context.\n",
    "        \"\"\"\n",
    "        # Context dictionary with data to be passed into the HTML template.\n",
    "        context = {\n",
    "            'title': 'Dynamic Title',  # Title to be dynamically inserted into the template.\n",
    "            'items': [f'item-{i}' for i in range(10)]  # List of items to be displayed in the template.\n",
    "        }\n",
    "        # Render and return the 'main.html' template with the provided context.\n",
    "        return render('main.html', context)\n",
    "\n",
    "if __name__ == '__main__':\n",
    "    # If this script is the main program, instantiate and run the StaticApp.\n",
    "    StaticApp()\n"
   ]
  }
 ],
 "metadata": {
  "kernelspec": {
   "display_name": "Python 3 (ipykernel)",
   "language": "python",
   "name": "python3"
  },
  "language_info": {
   "codemirror_mode": {
    "name": "ipython",
    "version": 3
   },
   "file_extension": ".py",
   "mimetype": "text/x-python",
   "name": "python",
   "nbconvert_exporter": "python",
   "pygments_lexer": "ipython3",
   "version": "3.11.6"
  }
 },
 "nbformat": 4,
 "nbformat_minor": 5
}
