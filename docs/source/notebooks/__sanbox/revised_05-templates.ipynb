{
 "cells": [
  {
   "cell_type": "markdown",
   "id": "b4d116d9",
   "metadata": {},
   "source": [
    "\n",
    "# Enhanced Documentation: Templates in Radian Framework\n",
    "\n",
    "This notebook provides a detailed overview and practical examples of using templates within the Radian framework, specifically focusing on the integration with Brython Templates. We will explore how templates can be utilized to create dynamic and responsive web applications.\n"
   ]
  },
  {
   "cell_type": "markdown",
   "id": "0958813c",
   "metadata": {},
   "source": [
    "\n",
    "## HTML Template Example\n",
    "\n",
    "The `main.html` file serves as an example of how Brython Templates can be integrated with HTML. The template includes placeholders and loops, which will be dynamically filled with data from the Python code.\n"
   ]
  },
  {
   "cell_type": "raw",
   "id": "fd37bd34",
   "metadata": {},
   "source": [
    "\n",
    "<div class=\"\">\n",
    "    <h1>Brython Templates</h1>\n",
    "    <h2>{title}</h2>\n",
    "</div>\n",
    "\n",
    "<div class=\"\">\n",
    "    <h1>Brython Templates b-code</h1>\n",
    "    <h2 b-code=\"for item in items:\">{item}</h2>\n",
    "</div>\n"
   ]
  },
  {
   "cell_type": "markdown",
   "id": "a8a1aca9",
   "metadata": {},
   "source": [
    "\n",
    "## Python Integration with Templates\n",
    "\n",
    "The following Python code demonstrates the use of the `render` function within the Radiant framework. This function is crucial for integrating dynamic data from Python into the HTML template, enabling the creation of responsive web pages.\n"
   ]
  },
  {
   "cell_type": "code",
   "execution_count": null,
   "id": "cc0cc739",
   "metadata": {},
   "outputs": [],
   "source": [
    "\n",
    "from radiant.framework.server import RadiantAPI, RadiantServer, render\n",
    "from radiant.framework import html\n",
    "\n",
    "class StaticApp(RadiantAPI):\n",
    "    def __init__(self, *args, **kwargs):\n",
    "        \"\"\"Initialize the StaticApp class by setting up the HTML body.\"\"\"\n",
    "        super().__init__(*args, **kwargs)\n",
    "        self.body <= html.H1('Radiant-Framework')  # Main header\n",
    "        self.body <= self.main()  # Append main content\n",
    "\n",
    "    def main(self):\n",
    "        \"\"\"Prepare and render the main HTML content using the 'main.html' template.\"\"\"\n",
    "        context = {\n",
    "            'title': 'Dynamic Title',  # Dynamic title for the template\n",
    "            'items': [f'item-{i}' for i in range(10)]  # List of items for the template\n",
    "        }\n",
    "        return render('main.html', context)  # Render the template with context\n",
    "\n",
    "if __name__ == '__main__':\n",
    "    StaticApp()  # Instantiate and run the StaticApp\n"
   ]
  }
 ],
 "metadata": {
  "kernelspec": {
   "display_name": "Python 3 (ipykernel)",
   "language": "python",
   "name": "python3"
  },
  "language_info": {
   "codemirror_mode": {
    "name": "ipython",
    "version": 3
   },
   "file_extension": ".py",
   "mimetype": "text/x-python",
   "name": "python",
   "nbconvert_exporter": "python",
   "pygments_lexer": "ipython3",
   "version": "3.11.6"
  }
 },
 "nbformat": 4,
 "nbformat_minor": 5
}
