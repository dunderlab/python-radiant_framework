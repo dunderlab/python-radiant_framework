{
 "cells": [
  {
   "cell_type": "markdown",
   "metadata": {},
   "source": [
    "# Radiant Framework\n",
    "\n",
    "A Brython Framework for Web Apps development.\n",
    "\n",
    "![GitHub top language](https://img.shields.io/github/languages/top/un-gcpds/brython-radiant?)\n",
    "![PyPI - License](https://img.shields.io/pypi/l/radiant?)\n",
    "![PyPI](https://img.shields.io/pypi/v/radiant?)\n",
    "![PyPI - Status](https://img.shields.io/pypi/status/radiant?)\n",
    "![PyPI - Python Version](https://img.shields.io/pypi/pyversions/radiant?)\n",
    "![GitHub last commit](https://img.shields.io/github/last-commit/un-gcpds/brython-radiant?)\n",
    "![CodeFactor Grade](https://img.shields.io/codefactor/grade/github/UN-GCPDS/brython-radiant?)\n",
    "[![Documentation Status](https://readthedocs.org/projects/radiant/badge/?version=latest)](https://radiant-framework.readthedocs.io/en/latest/?badge=latest)\n",
    "\n",
    "Radiant is a web framework that is built on top of [Brython](https://brython.info/), which is an implementation of *Python* in the browser. This means that you can write your web applications using *Python* syntax, rather than having to deal with HTML, CSS, or JavaScript. \n",
    "\n",
    "Radiant allows you to write your application code once, and have it run both in the browser and on the server. When running on the server, Radiant uses the [Tornado](https://www.tornadoweb.org/) web server to serve up your application. It also sets up the local path for serving static files, which means that you can include images, stylesheets, and other assets in your application. \n",
    "\n",
    "When your application is run in the browser, Radiant uses Brython to execute your *Python* code. This allows you to write your code once, and have it run seamlessly in both environments. Radiant also provides a custom HTML template that is configured at runtime to import the same script that you wrote for the server-side code. \n",
    "\n",
    "Overall, Radiant is a powerful tool for developers who want to build web applications using *Python*. It allows you to write your code once, and have it run both on the server and in the browser. This can help streamline your development process, and allow you to focus on writing high-quality code, rather than worrying about the details of web development."
   ]
  },
  {
   "cell_type": "markdown",
   "metadata": {},
   "source": [
    "## Installation\n",
    "\n",
    "To install Radiant, you can use ```pip```, the Python package manager:"
   ]
  },
  {
   "cell_type": "code",
   "execution_count": null,
   "metadata": {},
   "outputs": [],
   "source": [
    "pip install radiant"
   ]
  },
  {
   "cell_type": "markdown",
   "metadata": {},
   "source": [
    "## Bare minimum\n",
    "\n",
    "To help you get started with Radiant, let's walk through a bare minimum example. This example will show you how to create a simple web page that displays some text. We'll use the Radiant framework to create the page and run it on a local server. This is a great way to get a feel for how Radiant works, and to start exploring its features.\n",
    "\n",
    "To follow along with this example, you'll need to have Radiant installed on your system. If you haven't done this yet, please see the [Installation](#installation) section for instructions on how to install Radiant. Once you have Radiant installed, you're ready to go!"
   ]
  },
  {
   "cell_type": "code",
   "execution_count": null,
   "metadata": {},
   "outputs": [],
   "source": [
    "from radiant.framework.server import RadiantAPI\n",
    "from browser import document, html\n",
    "\n",
    "\n",
    "class BareMinimum(RadiantAPI):\n",
    "\n",
    "    def __init__(self, *args, **kwargs):\n",
    "        \"\"\"\"\"\"\n",
    "        super().__init__(*args, **kwargs)\n",
    "        document.select_one('body') <= html.H1('Radiant-Framework')\n",
    "\n",
    "\n",
    "if __name__ == '__main__':\n",
    "    BareMinimum()"
   ]
  },
  {
   "cell_type": "code",
   "execution_count": null,
   "metadata": {},
   "outputs": [],
   "source": []
  }
 ],
 "metadata": {
  "kernelspec": {
   "display_name": "Python 3 (ipykernel)",
   "language": "python",
   "name": "python3"
  },
  "language_info": {
   "codemirror_mode": {
    "name": "ipython",
    "version": 3
   },
   "file_extension": ".py",
   "mimetype": "text/x-python",
   "name": "python",
   "nbconvert_exporter": "python",
   "pygments_lexer": "ipython3",
   "version": "3.10.9"
  }
 },
 "nbformat": 4,
 "nbformat_minor": 4
}
