{
 "cells": [
  {
   "cell_type": "markdown",
   "metadata": {},
   "source": [
    "# Radiant: A Pythonic Web Framework\n",
    "\n",
    "A lightweight and Python-first framework for building web applications with Brython.\n",
    "\n",
    "![GitHub top language](https://img.shields.io/github/languages/top/dunderlab/python-radiant_framework?)\n",
    "![PyPI - License](https://img.shields.io/pypi/l/radiant-framework?)\n",
    "![PyPI](https://img.shields.io/pypi/v/radiant?)\n",
    "![PyPI - Status](https://img.shields.io/pypi/status/radiant-framework?)\n",
    "![PyPI - Python Version](https://img.shields.io/pypi/pyversions/radiant?)\n",
    "![GitHub last commit](https://img.shields.io/github/last-commit/dunderlab/python-radiant_framework?)\n",
    "![CodeFactor Grade](https://img.shields.io/codefactor/grade/github/dunderlab/python-radiant_framework?)\n",
    "[![Documentation Status](https://readthedocs.org/projects/radiant-framework/badge/?version=latest)](https://radiant-framework.readthedocs.io/en/latest/?badge=latest)"
   ]
  },
  {
   "metadata": {},
   "cell_type": "markdown",
   "source": [
    "## Why Radiant?\n",
    "\n",
    "Radiant is a modern web framework that enables Python developers to build full-stack web applications without writing JavaScript. It leverages Brython to run Python code directly in the browser, providing a seamless development experience.\n",
    "\n",
    "### Target Audience\n",
    "\n",
    "Radiant is designed for Python developers who want to:\n",
    "\n",
    "- Build web applications entirely in Python without JavaScript knowledge\n",
    "- Create interactive web interfaces with a Pythonic approach \n",
    "- Leverage Python's simplicity and expressiveness for frontend development\n",
    "- Benefit from Python's rich ecosystem of libraries and tools\n",
    "- Avoid context switching between Python and JavaScript\n",
    "- Develop full-stack applications with a single language\n",
    "- Learn web development while staying in a familiar Python environment\n",
    "\n",
    "Whether you're a Python enthusiast, a web developer looking for a Python-first approach, or a beginner wanting to start web development with Python, Radiant provides an intuitive framework for your needs.\n"
   ]
  },
  {
   "metadata": {},
   "cell_type": "markdown",
   "source": [
    "## Key Features\n",
    "\n",
    "- **Pure Python Development**: Build web applications without writing JavaScript\n",
    "- **Component-Based Architecture**: Create reusable UI components in Python\n",
    "- **Real-time Updates**: Built-in WebSocket support for live data updates\n",
    "- **Template System**: Flexible HTML templating with Python syntax\n",
    "- **State Management**: Simple state handling and reactivity\n",
    "- **Browser API Integration**: Access browser features through Python interfaces\n",
    "- **Modern UI Tools**: Built-in support for CSS frameworks and modern UI patterns\n",
    "\n",
    "## Getting Started\n",
    "\n",
    "### Prerequisites\n",
    "\n",
    "- Python 3.7 or higher\n",
    "- Basic understanding of Python\n",
    "- pip package manager\n",
    "\n",
    "### Installation\n",
    "\n",
    "Install Radiant using pip:\n",
    "\n",
    "~~~bash\n",
    "pip install radiant-framework\n",
    "~~~\n",
    "\n",
    "### Quick Example\n",
    "\n",
    "Here's a minimal example to get you started:\n"
   ]
  },
  {
   "metadata": {},
   "cell_type": "code",
   "outputs": [],
   "execution_count": null,
   "source": [
    "from radiant.framework.server import RadiantInterfaceApp\n",
    "from browser import document, html\n",
    "\n",
    "\n",
    "# Define a simple application using RadiantInterfaceApp\n",
    "class MinimalApp(RadiantInterfaceApp):\n",
    "\n",
    "    def on_mount(self):\n",
    "        document <= html.H1(\"Minimal Interface App\")\n",
    "        document <= html.P(\"This is a single-page app using Radiant.\")\n",
    "\n",
    "\n",
    "# Launch the app with default settings\n",
    "if __name__ == \"__main__\":\n",
    "    MinimalApp.serve()"
   ]
  },
  {
   "metadata": {},
   "cell_type": "markdown",
   "source": [
    "\n",
    "\n",
    "Visit http://localhost:5050 to see your first Radiant application!\n"
   ]
  }
 ],
 "metadata": {
  "kernelspec": {
   "display_name": "Python 3 (ipykernel)",
   "language": "python",
   "name": "python3"
  },
  "language_info": {
   "codemirror_mode": {
    "name": "ipython",
    "version": 3
   },
   "file_extension": ".py",
   "mimetype": "text/x-python",
   "name": "python",
   "nbconvert_exporter": "python",
   "pygments_lexer": "ipython3",
   "version": "3.13.1"
  }
 },
 "nbformat": 4,
 "nbformat_minor": 4
}
