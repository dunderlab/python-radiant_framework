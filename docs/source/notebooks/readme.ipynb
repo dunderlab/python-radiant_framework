{
 "cells": [
  {
   "cell_type": "markdown",
   "metadata": {},
   "source": [
    "# Radiant Framework\n",
    "\n",
    "A Brython Framework for Web Apps development.\n",
    "\n",
    "![GitHub top language](https://img.shields.io/github/languages/top/un-gcpds/brython-radiant?)\n",
    "![PyPI - License](https://img.shields.io/pypi/l/radiant?)\n",
    "![PyPI](https://img.shields.io/pypi/v/radiant?)\n",
    "![PyPI - Status](https://img.shields.io/pypi/status/radiant?)\n",
    "![PyPI - Python Version](https://img.shields.io/pypi/pyversions/radiant?)\n",
    "![GitHub last commit](https://img.shields.io/github/last-commit/un-gcpds/brython-radiant?)\n",
    "![CodeFactor Grade](https://img.shields.io/codefactor/grade/github/UN-GCPDS/brython-radiant?)\n",
    "[![Documentation Status](https://readthedocs.org/projects/radiant/badge/?version=latest)](https://radiant-framework.readthedocs.io/en/latest/?badge=latest)\n",
    "\n",
    "\n",
    "\n",
    "## Overview\n",
    "Radiant Framework is a novel web framework designed to leverage the capabilities of [Brython](https://brython.info/), a browser-based Python implementation. This innovative approach allows developers to write web applications entirely in Python, bypassing the conventional requirements of HTML, CSS, or JavaScript for frontend development.\n",
    "\n",
    "## Key Features\n",
    "\n",
    "### Python-Centric Development\n",
    "- **Unified Language Usage**: Write your entire web application using Python, ensuring a consistent and streamlined coding experience.\n",
    "- **Brython Integration**: Utilizes Brython for executing Python code in the browser, enabling a seamless transition of server-side code to client-side execution.\n",
    "\n",
    "### Server and Browser Compatibility\n",
    "- **Dual Environment Execution**: Radiant enables the same application code to run both on the server and in the browser, maximizing code reusability and efficiency.\n",
    "- **Tornado Web Server**: On the server-side, Radiant harnesses the [Tornado](https://www.tornadoweb.org/) web server to deploy applications, known for its scalability and non-blocking network I/O capabilities.\n",
    "\n",
    "### Resource Management\n",
    "- **Static File Handling**: Simplifies the management of static files (images, stylesheets, etc.), by setting up a local path for their serving, facilitating their inclusion in the application.\n",
    "\n",
    "### Runtime Configuration\n",
    "- **Dynamic HTML Templates**: Radiant offers a custom HTML template system, configurable at runtime, to dynamically import server-side scripts into the browser environment.\n",
    "\n",
    "## Benefits\n",
    "- **Streamlined Development Process**: By unifying the development language and environment, Radiant significantly reduces the complexity and learning curve associated with traditional web development.\n",
    "- **Code Efficiency**: Eliminates the need for writing separate frontend and backend code, leading to more maintainable and concise codebases.\n",
    "- **Focus on Quality**: Developers can concentrate on crafting high-quality Python code, without the distractions of dealing with various web technologies."
   ]
  },
  {
   "cell_type": "markdown",
   "metadata": {},
   "source": [
    "## Installation\n",
    "\n",
    "To install Radiant, you can use `pip`, the Python package manager. Simply run the following command in your terminal:\n"
   ]
  },
  {
   "cell_type": "code",
   "execution_count": null,
   "metadata": {
    "scrolled": true
   },
   "outputs": [],
   "source": [
    "pip install radiant-framework"
   ]
  },
  {
   "cell_type": "markdown",
   "metadata": {},
   "source": [
    "## Bare minimum\n",
    "\n",
    "To help you get started with Radiant, let's walk through a bare minimum example. This example will demonstrate how to create a simple web page that displays some text. We'll utilize the Radiant framework to craft the page and run it on a local server. This is an excellent way to familiarize yourself with how Radiant functions and to begin exploring its capabilities.\n",
    "\n",
    "### Prerequisites\n",
    "Before proceeding, ensure that you have Radiant installed on your system. If you haven't installed Radiant yet, please refer to the [Installation](#installation) section for guidance.\n",
    "\n",
    "### Creating a Simple Web Page\n",
    "\n",
    "The following script illustrates a basic application using Radiant. This script will set up a simple web page displaying a heading."
   ]
  },
  {
   "cell_type": "code",
   "execution_count": null,
   "metadata": {},
   "outputs": [],
   "source": [
    "from radiant.framework.server import AppRouter\n",
    "from browser import document, html\n",
    "\n",
    "class BareMinimum(AppRouter):\n",
    "\n",
    "    def __init__(self, *args, **kwargs):\n",
    "        super().__init__(*args, **kwargs)\n",
    "        document.select_one('body') <= html.H1('Radiant-Framework')\n",
    "\n",
    "if __name__ == '__main__':\n",
    "    BareMinimum()"
   ]
  }
 ],
 "metadata": {
  "kernelspec": {
   "display_name": "Python 3 (ipykernel)",
   "language": "python",
   "name": "python3"
  },
  "language_info": {
   "codemirror_mode": {
    "name": "ipython",
    "version": 3
   },
   "file_extension": ".py",
   "mimetype": "text/x-python",
   "name": "python",
   "nbconvert_exporter": "python",
   "pygments_lexer": "ipython3",
   "version": "3.13.1"
  }
 },
 "nbformat": 4,
 "nbformat_minor": 4
}
